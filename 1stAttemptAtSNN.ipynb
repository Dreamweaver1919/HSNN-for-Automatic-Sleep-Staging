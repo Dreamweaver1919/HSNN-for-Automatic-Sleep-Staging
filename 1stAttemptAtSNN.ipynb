{
 "cells": [
  {
   "cell_type": "code",
   "execution_count": null,
   "metadata": {},
   "outputs": [],
   "source": [
    "#Set seed\n",
    "import random\n",
    "import numpy as np\n",
    "import torch\n",
    "\n",
    "seed = 42\n",
    "\n",
    "random.seed(seed)\n",
    "np.random.seed(seed)\n",
    "torch.manual_seed(seed)\n",
    "if torch.cuda.is_available():\n",
    "    torch.cuda.manual_seed(seed)\n",
    "    torch.cuda.manual_seed_all(seed)\n",
    "\n",
    "# For reproducibility in cuDNN (may slow down performance)\n",
    "torch.backends.cudnn.deterministic = True\n",
    "torch.backends.cudnn.benchmark = False\n"
   ]
  },
  {
   "cell_type": "code",
   "execution_count": null,
   "metadata": {},
   "outputs": [],
   "source": [
    "# ----------------------------    Model Definition  -------------------------------\n",
    "\n",
    "import random\n",
    "import numpy as np\n",
    "import torch\n",
    "import torch.nn as nn\n",
    "import torch.optim as optim\n",
    "import mne\n",
    "\n",
    "from spikingjelly.activation_based import encoding,neuron,surrogate,layer\n",
    "from scipy.io import loadmat\n",
    "import tqdm\n",
    "import os\n",
    "\n",
    "# Import spikingjelly modules\n",
    "from spikingjelly.activation_based import neuron, surrogate\n",
    "import torch.nn.functional as F\n",
    "\n",
    "\n",
    "\n",
    "# ----------------------------\n",
    "#  2. Reservoir SNN Module using spikingjelly\n",
    "#   ----------------------------\n",
    "# class SpikingJellyReservoirSNN(nn.Module):\n",
    "#     def __init__(self, n_channels, n_reservoir, sfreq, tau=0.02, threshold=1.0):\n",
    "#         \"\"\"\n",
    "#         n_channels: number of EEG channels\n",
    "#         n_reservoir: number of reservoir neurons\n",
    "#         sfreq: sampling frequency in Hz\n",
    "#         tau: membrane time constant (seconds)\n",
    "#         threshold: spiking threshold\n",
    "#         \"\"\"\n",
    "#         super().__init__()\n",
    "#         self.n_channels = n_channels\n",
    "#         self.n_reservoir = n_reservoir\n",
    "#         self.sfreq = sfreq\n",
    "#         self.dt = 1.0 / sfreq\n",
    "#         self.tau = tau\n",
    "#         self.threshold = threshold\n",
    "\n",
    "#         # Fully-connected input mapping (EEG channels -> reservoir neurons)\n",
    "#         self.fc_in = nn.Linear(n_channels, n_reservoir)\n",
    "#         self.fc_rec = nn.Linear(n_reservoir, n_reservoir)\n",
    "        \n",
    "#         # Convert tau to timesteps\n",
    "#         tau_timesteps = tau * sfreq  \n",
    "#         # Create spiking neuron using spikingjelly's LIFNode.\n",
    "#         self.lif = neuron.LIFNode(tau=tau_timesteps, surrogate_function=surrogate.ATan(), detach_reset=True)\n",
    "#         # Set the threshold manually (if needed; default is 1.0)\n",
    "#         self.lif.v_threshold = threshold\n",
    "\n",
    "#     def forward(self, x):\n",
    "#         \"\"\"\n",
    "#         x: Tensor of shape (batch_size, n_channels, time_steps)\n",
    "#         Returns: spike counts per neuron (batch_size, n_reservoir)\n",
    "#         \"\"\"\n",
    "#         batch_size, _, time_steps = x.shape\n",
    "#         device = x.device\n",
    "#         spike_counts = torch.zeros(batch_size, self.n_reservoir, device=device)\n",
    "#         spikes = torch.zeros(batch_size, self.n_reservoir, device=device)\n",
    "\n",
    "#         # Reset LIF state at the start of each forward pass\n",
    "#         self.lif.reset()\n",
    "\n",
    "#         for t in range(time_steps):\n",
    "#             input_t = x[:, :, t]  # shape: (batch_size, n_channels)\n",
    "#             I_in = F.relu(self.fc_in(input_t) + self.fc_rec(spikes))#第二项这里实现递归，将上一轮的脉冲数量传递给递归层进行计算\n",
    "#             spikes = self.lif(I_in)#这里实际上算是将所有的节点都作为lif神经元进行计算了\n",
    "#             spike_counts += spikes\n",
    "#         return spike_counts\n",
    "\n",
    "\n",
    "import torch\n",
    "import torch.nn as nn\n",
    "import torch.nn.functional as F\n",
    "\n",
    "class SpikingJellyReservoirSNN(nn.Module):\n",
    "    def __init__(self, input_size, reservoir_size, sparsity=0.1, tau_mem=20.0, dt=1.0, threshold=1.0, reset=0.0):\n",
    "        super(LIFReservoir, self).__init__()\n",
    "        self.reservoir_size = reservoir_size\n",
    "        self.tau_mem = tau_mem\n",
    "        self.dt = dt\n",
    "        self.threshold = threshold\n",
    "        self.reset = reset\n",
    "\n",
    "        # Time constant decay factor\n",
    "        self.alpha = float(torch.exp(-dt / tau_mem))  # Membrane decay\n",
    "        self.beta = 1.0 * (1.0 - self.alpha)           # Input scaling\n",
    "\n",
    "        # Input-to-reservoir weights\n",
    "        W_in = torch.randn(reservoir_size, input_size) * 0.1\n",
    "        self.register_buffer('W_in', W_in)\n",
    "\n",
    "        # Reservoir-to-reservoir sparse recurrent weights\n",
    "        W_res = torch.randn(reservoir_size, reservoir_size)\n",
    "        mask = torch.rand_like(W_res) < sparsity\n",
    "        W_res[~mask] = 0\n",
    "        self.register_buffer('W_res', W_res)\n",
    "\n",
    "        # Linear classifier on top of reservoir states\n",
    "        self.classifier = nn.Linear(reservoir_size, 1)  # Adjust output size for multi-class tasks\n",
    "\n",
    "    def forward(self, input_seq, state=None):\n",
    "        \"\"\"\n",
    "        input_seq: shape (batch_size, seq_len, input_size)\n",
    "        Returns: logits (batch_size, num_classes)\n",
    "        \"\"\"\n",
    "        batch_size, seq_len, _ = input_seq.size()\n",
    "\n",
    "        if state is None:\n",
    "            state = {\n",
    "                'v': torch.zeros(batch_size, self.reservoir_size, device=input_seq.device),\n",
    "                'output': torch.zeros(batch_size, self.reservoir_size, device=input_seq.device)\n",
    "            }\n",
    "\n",
    "        v = state['v']\n",
    "        outputs = []\n",
    "\n",
    "        for t in range(seq_len):\n",
    "            x = input_seq[:, t]\n",
    "\n",
    "            # Input to reservoir\n",
    "            I = F.linear(x, self.W_in) + F.linear(state['output'], self.W_res)\n",
    "\n",
    "            # Update membrane potential using LIF dynamics\n",
    "            v = self.alpha * v + self.beta * I\n",
    "\n",
    "            # Spike condition\n",
    "            z = (v >= self.threshold).float()\n",
    "            v = v * (1.0 - z) + z * self.reset  # Reset voltage on spike\n",
    "\n",
    "            outputs.append(z)\n",
    "            state['v'] = v\n",
    "            state['output'] = z\n",
    "\n",
    "        # Use final step's spikes as representation\n",
    "        final_output = outputs[-1]\n",
    "        logits = self.classifier(final_output)\n",
    "        return logits\n",
    "        \n",
    "class ComplexClassifier(nn.Module):\n",
    "    def __init__(self, n_reservoir, n_classes):\n",
    "        super().__init__()\n",
    "        # First hidden layer with 128 neurons\n",
    "        self.fc1 = nn.Linear(n_reservoir, 64)\n",
    "        self.bn1 = nn.BatchNorm1d(64)\n",
    "        self.dropout1 = nn.Dropout(0.5)\n",
    "        # Second hidden layer with 64 neurons\n",
    "        self.fc2 = nn.Linear(64, 32)\n",
    "        self.bn2 = nn.BatchNorm1d(32)\n",
    "        self.dropout2 = nn.Dropout(0.5)\n",
    "        #Third hidden layer\n",
    "        self.fc3 = nn.Linear(32, n_classes)\n",
    "\n",
    "\n",
    "\n",
    "    def forward(self, x):\n",
    "        # Pass through first hidden layer\n",
    "        x = self.fc1(x)\n",
    "        x = self.bn1(x)\n",
    "        x = torch.relu(x)\n",
    "        x = self.dropout1(x)\n",
    "        # Pass through second hidden layer\n",
    "        x = self.fc2(x)\n",
    "        x = self.bn2(x)\n",
    "        x = torch.relu(x)\n",
    "        x = self.dropout2(x)\n",
    "        # Final output layer; no activation if using a loss that applies one (e.g., CrossEntropyLoss)\n",
    "        x = self.fc3(x)\n",
    "\n",
    "        return x\n",
    "\n",
    "\n",
    "# ----------------------------\n",
    "# 4. Combined Simplified SNN Model using spikingjelly reservoir\n",
    "# ----------------------------\n",
    "class SimplifiedSNNModel(nn.Module):\n",
    "    def __init__(self, n_channels, n_reservoir, n_classes, sfreq, tau=0.02, threshold=1.0):\n",
    "        super().__init__()\n",
    "        \n",
    "        self.encoder = encoding.PoissonEncoder()\n",
    "        self.cnn = nn.Sequential(\n",
    "            nn.Conv1d(n_channels, 64, kernel_size=5, stride=2, padding=2),\n",
    "            nn.BatchNorm1d(64),\n",
    "            nn.ReLU(),\n",
    "            nn.Conv1d(64, 64, kernel_size=5, stride=2, padding=2),\n",
    "            nn.BatchNorm1d(64),\n",
    "            nn.ReLU(),\n",
    "            nn.Conv1d(64, 64, kernel_size=5, stride=2, padding=2),\n",
    "            nn.BatchNorm1d(64),\n",
    "            nn.ReLU()\n",
    "            \n",
    "        )\n",
    "\n",
    "        self.reservoir = SpikingJellyReservoirSNN(64, n_reservoir, sfreq, tau, threshold)\n",
    "        self.classifier = ComplexClassifier(n_reservoir, n_classes)\n",
    "\n",
    "    def forward(self, x):\n",
    "        # x: (batch_size, n_channels, time_steps)\n",
    "\n",
    "        x = self.cnn(x)\n",
    "        #x = self.encoder(x)  # Encode the input using Poisson encoding\n",
    "\n",
    "        spike_counts = self.reservoir(x)\n",
    "        # Use the classifier to map the reservoir's spike counts to rate-coded outputs.\n",
    "        rates = self.classifier(spike_counts)\n",
    "        return rates\n",
    "\n",
    "# ----------------------------\n",
    "# 5. Custom Dataset for EEG Trials\n",
    "# ----------------------------\n",
    "class EEGDataset:\n",
    "    def __init__(self, trials):\n",
    "        \"\"\"\n",
    "        trials: list of tuples (segment, label)\n",
    "          segment: numpy array of shape (n_channels, time_steps)\n",
    "          label: integer label for sleep stage\n",
    "        \"\"\"\n",
    "        self.trials = trials\n",
    "\n",
    "    def __len__(self):\n",
    "        return len(self.trials)\n",
    "\n",
    "    def __getitem__(self, idx):\n",
    "        segment, label = self.trials[idx]\n",
    "        segment_tensor = torch.tensor(segment, dtype=torch.float32)\n",
    "        label_tensor = torch.tensor(label, dtype=torch.long)\n",
    "        return segment_tensor, label_tensor\n",
    "\n",
    "\n",
    "\n"
   ]
  },
  {
   "cell_type": "code",
   "execution_count": null,
   "metadata": {},
   "outputs": [
    {
     "name": "stdout",
     "output_type": "stream",
     "text": [
      "Extracting EDF parameters from /home/fwx/work/01_sleep_psg.edf...\n",
      "EDF file detected\n",
      "Setting channel info structure...\n",
      "Creating raw.info structure...\n",
      "Reading 0 ... 5557599  =      0.000 ... 27787.995 secs...\n",
      "Number of epochs (trials): 926\n"
     ]
    }
   ],
   "source": [
    "# ----------------------------  Dataset class Definition & Dataset loading ------------------------\n",
    "# 6. Data Loading: EEG (.edf) and Sleep Staging (.mat)\n",
    "# ----------------------------\n",
    "# Update the file paths as needed.\n",
    "edf_file = os.path.join(os.getcwd(), r\"01_sleep_psg.edf\")\n",
    "try:\n",
    "    raw = mne.io.read_raw_edf(edf_file, preload=True)\n",
    "except Exception as e:\n",
    "    print(\"Error reading EDF file:\", e)\n",
    "    raise\n",
    "\n",
    "eeg_data = raw.get_data()  # shape: (n_channels, total_samples)\n",
    "sfreq = raw.info['sfreq']\n",
    "\n",
    "# Load sleep staging information from a MAT file\n",
    "mat_file = os.path.join(os.getcwd(), r\"01_SleepStages.mat\")\n",
    "mat_contents = loadmat(mat_file)\n",
    "keys = [key for key in mat_contents.keys() if not key.startswith('__')]\n",
    "if len(keys) == 0:\n",
    "    raise ValueError(\"No valid variables found in the MAT file.\")\n",
    "stages_raw = mat_contents[keys[0]]\n",
    "stages_raw = np.squeeze(stages_raw)\n",
    "stages = [str(s) for s in stages_raw]\n",
    "stages_clean = [s[0] if isinstance(s, (np.ndarray, list)) else s for s in stages]\n",
    "stage_mapping = {\"['NREM 1']\": 0, \"['NREM 2']\": 1, \"['NREM 3']\": 2, \"['Wake']\": 3, \"['REM']\": 4}\n",
    "stages_int = [stage_mapping[s] for s in stages_clean]\n",
    "\n",
    "# Build trials: divide continuous EEG data into 30-second epochs\n",
    "epoch_duration = 30  # seconds\n",
    "samples_per_epoch = int(sfreq * epoch_duration)\n",
    "total_samples = eeg_data.shape[1]\n",
    "n_epochs_available = total_samples // samples_per_epoch\n",
    "n_epochs = min(len(stages_int), n_epochs_available)\n",
    "print(f\"Number of epochs (trials): {n_epochs}\")\n",
    "\n",
    "trials = []\n",
    "for epoch_idx in range(n_epochs):\n",
    "    start_idx = epoch_idx * samples_per_epoch\n",
    "    end_idx = (epoch_idx + 1) * samples_per_epoch\n",
    "    segment = eeg_data[:, start_idx:end_idx]\n",
    "    stage = stages_int[epoch_idx]\n",
    "    trials.append((segment, stage))\n",
    "\n",
    "# Instantiate the dataset\n",
    "dataset = EEGDataset(trials)\n",
    "\n",
    "# ----------------------------\n",
    "# 6.1 Compute Global Normalization Statistics (per channel)\n",
    "# ----------------------------\n",
    "# Stack all segments to compute global mean and std per channel.\n",
    "all_segments = [segment for segment, _ in dataset]\n",
    "all_segments = np.stack(all_segments, axis=0)  # shape: (n_trials, n_channels, time_steps)\n",
    "global_mean = np.mean(all_segments, axis=(0, 2))  # shape: (n_channels,)\n",
    "global_std = np.std(all_segments, axis=(0, 2))    # shape: (n_channels,)\n",
    "\n",
    "# ----------------------------\n",
    "# 7. Split Dataset into Training and Evaluation Sets\n",
    "# ----------------------------\n",
    "indices = list(range(len(dataset)))\n",
    "random.shuffle(indices)\n",
    "split_ratio = 0.8  # 80% training, 20% evaluation\n",
    "train_split = int(len(indices) * split_ratio)\n",
    "train_indices = indices[:train_split]\n",
    "eval_indices = indices[train_split:]\n",
    "\n",
    "\n",
    "\n",
    "\n",
    "\n"
   ]
  },
  {
   "cell_type": "code",
   "execution_count": null,
   "metadata": {},
   "outputs": [],
   "source": [
    "#Model Initialization\n",
    "device = torch.device('cuda' if torch.cuda.is_available() else 'cpu')\n",
    "n_channels = eeg_data.shape[0]\n",
    "n_reservoir = 512  # e.g., 512 reservoir neurons\n",
    "n_classes = len(np.unique(stages_int))\n",
    "\n",
    "model = SimplifiedSNNModel(n_channels, n_reservoir, n_classes, sfreq, tau=0.02, threshold=1.0).to(device)"
   ]
  },
  {
   "cell_type": "code",
   "execution_count": null,
   "metadata": {},
   "outputs": [
    {
     "name": "stdout",
     "output_type": "stream",
     "text": [
      "\n",
      "Training for epoch: 1\n"
     ]
    },
    {
     "name": "stderr",
     "output_type": "stream",
     "text": [
      "Training Batches:   0%|          | 0/23 [00:00<?, ?it/s]/tmp/ipykernel_1045243/3821174872.py:28: DeprecationWarning: __array_wrap__ must accept context and return_scalar arguments (positionally) in the future. (Deprecated NumPy 2.0)\n",
      "  segment = (segment - global_mean[:, None]) / global_std[:, None]\n",
      "Training Batches: 100%|██████████| 23/23 [00:32<00:00,  1.40s/it]\n"
     ]
    },
    {
     "name": "stdout",
     "output_type": "stream",
     "text": [
      "Epoch 1, Loss: 0.5196, Training Accuracy: 25.00%\n",
      "\n",
      "Training for epoch: 2\n"
     ]
    },
    {
     "name": "stderr",
     "output_type": "stream",
     "text": [
      "Training Batches: 100%|██████████| 23/23 [00:30<00:00,  1.33s/it]\n"
     ]
    },
    {
     "name": "stdout",
     "output_type": "stream",
     "text": [
      "Epoch 2, Loss: 0.3320, Training Accuracy: 29.05%\n",
      "\n",
      "Training for epoch: 3\n"
     ]
    },
    {
     "name": "stderr",
     "output_type": "stream",
     "text": [
      "Training Batches: 100%|██████████| 23/23 [00:16<00:00,  1.37it/s]\n"
     ]
    },
    {
     "name": "stdout",
     "output_type": "stream",
     "text": [
      "Epoch 3, Loss: 0.2613, Training Accuracy: 28.24%\n",
      "\n",
      "Training for epoch: 4\n"
     ]
    },
    {
     "name": "stderr",
     "output_type": "stream",
     "text": [
      "Training Batches: 100%|██████████| 23/23 [00:23<00:00,  1.03s/it]\n"
     ]
    },
    {
     "name": "stdout",
     "output_type": "stream",
     "text": [
      "Epoch 4, Loss: 0.2428, Training Accuracy: 33.24%\n",
      "\n",
      "Training for epoch: 5\n"
     ]
    },
    {
     "name": "stderr",
     "output_type": "stream",
     "text": [
      "Training Batches: 100%|██████████| 23/23 [00:24<00:00,  1.07s/it]\n"
     ]
    },
    {
     "name": "stdout",
     "output_type": "stream",
     "text": [
      "Epoch 5, Loss: 0.2095, Training Accuracy: 35.41%\n",
      "\n",
      "Training for epoch: 6\n"
     ]
    },
    {
     "name": "stderr",
     "output_type": "stream",
     "text": [
      "Training Batches: 100%|██████████| 23/23 [00:21<00:00,  1.05it/s]\n"
     ]
    },
    {
     "name": "stdout",
     "output_type": "stream",
     "text": [
      "Epoch 6, Loss: 0.1978, Training Accuracy: 38.51%\n",
      "\n",
      "Training for epoch: 7\n"
     ]
    },
    {
     "name": "stderr",
     "output_type": "stream",
     "text": [
      "Training Batches: 100%|██████████| 23/23 [00:24<00:00,  1.07s/it]\n"
     ]
    },
    {
     "name": "stdout",
     "output_type": "stream",
     "text": [
      "Epoch 7, Loss: 0.1910, Training Accuracy: 36.35%\n",
      "\n",
      "Training for epoch: 8\n"
     ]
    },
    {
     "name": "stderr",
     "output_type": "stream",
     "text": [
      "Training Batches: 100%|██████████| 23/23 [00:33<00:00,  1.45s/it]\n"
     ]
    },
    {
     "name": "stdout",
     "output_type": "stream",
     "text": [
      "Epoch 8, Loss: 0.1728, Training Accuracy: 41.76%\n",
      "\n",
      "Training for epoch: 9\n"
     ]
    },
    {
     "name": "stderr",
     "output_type": "stream",
     "text": [
      "Training Batches: 100%|██████████| 23/23 [00:29<00:00,  1.27s/it]\n"
     ]
    },
    {
     "name": "stdout",
     "output_type": "stream",
     "text": [
      "Epoch 9, Loss: 0.1664, Training Accuracy: 42.97%\n",
      "\n",
      "Training for epoch: 10\n"
     ]
    },
    {
     "name": "stderr",
     "output_type": "stream",
     "text": [
      "Training Batches: 100%|██████████| 23/23 [00:32<00:00,  1.41s/it]\n"
     ]
    },
    {
     "name": "stdout",
     "output_type": "stream",
     "text": [
      "Epoch 10, Loss: 0.1667, Training Accuracy: 40.41%\n",
      "\n",
      "Training for epoch: 11\n"
     ]
    },
    {
     "name": "stderr",
     "output_type": "stream",
     "text": [
      "Training Batches: 100%|██████████| 23/23 [00:30<00:00,  1.31s/it]\n"
     ]
    },
    {
     "name": "stdout",
     "output_type": "stream",
     "text": [
      "Epoch 11, Loss: 0.1562, Training Accuracy: 43.51%\n",
      "\n",
      "Training for epoch: 12\n"
     ]
    },
    {
     "name": "stderr",
     "output_type": "stream",
     "text": [
      "Training Batches: 100%|██████████| 23/23 [00:35<00:00,  1.52s/it]\n"
     ]
    },
    {
     "name": "stdout",
     "output_type": "stream",
     "text": [
      "Epoch 12, Loss: 0.1548, Training Accuracy: 42.16%\n",
      "\n",
      "Training for epoch: 13\n"
     ]
    },
    {
     "name": "stderr",
     "output_type": "stream",
     "text": [
      "Training Batches: 100%|██████████| 23/23 [00:29<00:00,  1.28s/it]\n"
     ]
    },
    {
     "name": "stdout",
     "output_type": "stream",
     "text": [
      "Epoch 13, Loss: 0.1498, Training Accuracy: 43.11%\n",
      "\n",
      "Training for epoch: 14\n"
     ]
    },
    {
     "name": "stderr",
     "output_type": "stream",
     "text": [
      "Training Batches: 100%|██████████| 23/23 [00:32<00:00,  1.43s/it]\n"
     ]
    },
    {
     "name": "stdout",
     "output_type": "stream",
     "text": [
      "Epoch 14, Loss: 0.1421, Training Accuracy: 45.27%\n",
      "\n",
      "Training for epoch: 15\n"
     ]
    },
    {
     "name": "stderr",
     "output_type": "stream",
     "text": [
      "Training Batches: 100%|██████████| 23/23 [00:39<00:00,  1.70s/it]\n"
     ]
    },
    {
     "name": "stdout",
     "output_type": "stream",
     "text": [
      "Epoch 15, Loss: 0.1417, Training Accuracy: 46.08%\n",
      "\n",
      "Training for epoch: 16\n"
     ]
    },
    {
     "name": "stderr",
     "output_type": "stream",
     "text": [
      "Training Batches: 100%|██████████| 23/23 [00:26<00:00,  1.17s/it]\n"
     ]
    },
    {
     "name": "stdout",
     "output_type": "stream",
     "text": [
      "Epoch 16, Loss: 0.1392, Training Accuracy: 48.11%\n",
      "\n",
      "Training for epoch: 17\n"
     ]
    },
    {
     "name": "stderr",
     "output_type": "stream",
     "text": [
      "Training Batches: 100%|██████████| 23/23 [00:35<00:00,  1.52s/it]\n"
     ]
    },
    {
     "name": "stdout",
     "output_type": "stream",
     "text": [
      "Epoch 17, Loss: 0.1361, Training Accuracy: 47.57%\n",
      "\n",
      "Training for epoch: 18\n"
     ]
    },
    {
     "name": "stderr",
     "output_type": "stream",
     "text": [
      "Training Batches: 100%|██████████| 23/23 [00:27<00:00,  1.18s/it]\n"
     ]
    },
    {
     "name": "stdout",
     "output_type": "stream",
     "text": [
      "Epoch 18, Loss: 0.1350, Training Accuracy: 49.59%\n",
      "\n",
      "Training for epoch: 19\n"
     ]
    },
    {
     "name": "stderr",
     "output_type": "stream",
     "text": [
      "Training Batches: 100%|██████████| 23/23 [00:27<00:00,  1.19s/it]\n"
     ]
    },
    {
     "name": "stdout",
     "output_type": "stream",
     "text": [
      "Epoch 19, Loss: 0.1341, Training Accuracy: 50.68%\n",
      "\n",
      "Training for epoch: 20\n"
     ]
    },
    {
     "name": "stderr",
     "output_type": "stream",
     "text": [
      "Training Batches: 100%|██████████| 23/23 [00:32<00:00,  1.40s/it]\n"
     ]
    },
    {
     "name": "stdout",
     "output_type": "stream",
     "text": [
      "Epoch 20, Loss: 0.1301, Training Accuracy: 52.70%\n",
      "\n",
      "Training for epoch: 21\n"
     ]
    },
    {
     "name": "stderr",
     "output_type": "stream",
     "text": [
      "Training Batches: 100%|██████████| 23/23 [00:35<00:00,  1.53s/it]\n"
     ]
    },
    {
     "name": "stdout",
     "output_type": "stream",
     "text": [
      "Epoch 21, Loss: 0.1237, Training Accuracy: 55.41%\n",
      "\n",
      "Training for epoch: 22\n"
     ]
    },
    {
     "name": "stderr",
     "output_type": "stream",
     "text": [
      "Training Batches: 100%|██████████| 23/23 [00:25<00:00,  1.11s/it]\n"
     ]
    },
    {
     "name": "stdout",
     "output_type": "stream",
     "text": [
      "Epoch 22, Loss: 0.1210, Training Accuracy: 58.78%\n",
      "\n",
      "Training for epoch: 23\n"
     ]
    },
    {
     "name": "stderr",
     "output_type": "stream",
     "text": [
      "Training Batches: 100%|██████████| 23/23 [00:34<00:00,  1.51s/it]\n"
     ]
    },
    {
     "name": "stdout",
     "output_type": "stream",
     "text": [
      "Epoch 23, Loss: 0.1159, Training Accuracy: 60.00%\n",
      "\n",
      "Training for epoch: 24\n"
     ]
    },
    {
     "name": "stderr",
     "output_type": "stream",
     "text": [
      "Training Batches: 100%|██████████| 23/23 [00:28<00:00,  1.24s/it]\n"
     ]
    },
    {
     "name": "stdout",
     "output_type": "stream",
     "text": [
      "Epoch 24, Loss: 0.1133, Training Accuracy: 62.03%\n",
      "\n",
      "Training for epoch: 25\n"
     ]
    },
    {
     "name": "stderr",
     "output_type": "stream",
     "text": [
      "Training Batches: 100%|██████████| 23/23 [00:23<00:00,  1.04s/it]\n"
     ]
    },
    {
     "name": "stdout",
     "output_type": "stream",
     "text": [
      "Epoch 25, Loss: 0.1115, Training Accuracy: 62.84%\n",
      "\n",
      "Training for epoch: 26\n"
     ]
    },
    {
     "name": "stderr",
     "output_type": "stream",
     "text": [
      "Training Batches: 100%|██████████| 23/23 [00:22<00:00,  1.03it/s]\n"
     ]
    },
    {
     "name": "stdout",
     "output_type": "stream",
     "text": [
      "Epoch 26, Loss: 0.1101, Training Accuracy: 63.78%\n",
      "\n",
      "Training for epoch: 27\n"
     ]
    },
    {
     "name": "stderr",
     "output_type": "stream",
     "text": [
      "Training Batches: 100%|██████████| 23/23 [00:20<00:00,  1.10it/s]\n"
     ]
    },
    {
     "name": "stdout",
     "output_type": "stream",
     "text": [
      "Epoch 27, Loss: 0.1038, Training Accuracy: 67.70%\n",
      "\n",
      "Training for epoch: 28\n"
     ]
    },
    {
     "name": "stderr",
     "output_type": "stream",
     "text": [
      "Training Batches: 100%|██████████| 23/23 [00:18<00:00,  1.26it/s]\n"
     ]
    },
    {
     "name": "stdout",
     "output_type": "stream",
     "text": [
      "Epoch 28, Loss: 0.1056, Training Accuracy: 67.30%\n",
      "\n",
      "Training for epoch: 29\n"
     ]
    },
    {
     "name": "stderr",
     "output_type": "stream",
     "text": [
      "Training Batches: 100%|██████████| 23/23 [00:20<00:00,  1.10it/s]\n"
     ]
    },
    {
     "name": "stdout",
     "output_type": "stream",
     "text": [
      "Epoch 29, Loss: 0.0997, Training Accuracy: 67.84%\n",
      "\n",
      "Training for epoch: 30\n"
     ]
    },
    {
     "name": "stderr",
     "output_type": "stream",
     "text": [
      "Training Batches: 100%|██████████| 23/23 [00:28<00:00,  1.23s/it]\n"
     ]
    },
    {
     "name": "stdout",
     "output_type": "stream",
     "text": [
      "Epoch 30, Loss: 0.0995, Training Accuracy: 66.89%\n",
      "\n",
      "Training for epoch: 31\n"
     ]
    },
    {
     "name": "stderr",
     "output_type": "stream",
     "text": [
      "Training Batches: 100%|██████████| 23/23 [00:30<00:00,  1.32s/it]\n"
     ]
    },
    {
     "name": "stdout",
     "output_type": "stream",
     "text": [
      "Epoch 31, Loss: 0.1021, Training Accuracy: 67.84%\n",
      "\n",
      "Training for epoch: 32\n"
     ]
    },
    {
     "name": "stderr",
     "output_type": "stream",
     "text": [
      "Training Batches: 100%|██████████| 23/23 [00:26<00:00,  1.17s/it]\n"
     ]
    },
    {
     "name": "stdout",
     "output_type": "stream",
     "text": [
      "Epoch 32, Loss: 0.0947, Training Accuracy: 70.00%\n",
      "\n",
      "Training for epoch: 33\n"
     ]
    },
    {
     "name": "stderr",
     "output_type": "stream",
     "text": [
      "Training Batches: 100%|██████████| 23/23 [00:27<00:00,  1.18s/it]\n"
     ]
    },
    {
     "name": "stdout",
     "output_type": "stream",
     "text": [
      "Epoch 33, Loss: 0.0924, Training Accuracy: 70.54%\n",
      "\n",
      "Training for epoch: 34\n"
     ]
    },
    {
     "name": "stderr",
     "output_type": "stream",
     "text": [
      "Training Batches: 100%|██████████| 23/23 [00:22<00:00,  1.01it/s]\n"
     ]
    },
    {
     "name": "stdout",
     "output_type": "stream",
     "text": [
      "Epoch 34, Loss: 0.0900, Training Accuracy: 74.05%\n",
      "\n",
      "Training for epoch: 35\n"
     ]
    },
    {
     "name": "stderr",
     "output_type": "stream",
     "text": [
      "Training Batches: 100%|██████████| 23/23 [00:30<00:00,  1.34s/it]\n"
     ]
    },
    {
     "name": "stdout",
     "output_type": "stream",
     "text": [
      "Epoch 35, Loss: 0.0870, Training Accuracy: 74.32%\n",
      "\n",
      "Training for epoch: 36\n"
     ]
    },
    {
     "name": "stderr",
     "output_type": "stream",
     "text": [
      "Training Batches: 100%|██████████| 23/23 [00:43<00:00,  1.90s/it]\n"
     ]
    },
    {
     "name": "stdout",
     "output_type": "stream",
     "text": [
      "Epoch 36, Loss: 0.0777, Training Accuracy: 78.11%\n",
      "\n",
      "Training for epoch: 37\n"
     ]
    },
    {
     "name": "stderr",
     "output_type": "stream",
     "text": [
      "Training Batches: 100%|██████████| 23/23 [00:35<00:00,  1.53s/it]\n"
     ]
    },
    {
     "name": "stdout",
     "output_type": "stream",
     "text": [
      "Epoch 37, Loss: 0.0759, Training Accuracy: 79.46%\n",
      "\n",
      "Training for epoch: 38\n"
     ]
    },
    {
     "name": "stderr",
     "output_type": "stream",
     "text": [
      "Training Batches: 100%|██████████| 23/23 [00:31<00:00,  1.39s/it]\n"
     ]
    },
    {
     "name": "stdout",
     "output_type": "stream",
     "text": [
      "Epoch 38, Loss: 0.0774, Training Accuracy: 78.24%\n",
      "\n",
      "Training for epoch: 39\n"
     ]
    },
    {
     "name": "stderr",
     "output_type": "stream",
     "text": [
      "Training Batches: 100%|██████████| 23/23 [00:33<00:00,  1.46s/it]\n"
     ]
    },
    {
     "name": "stdout",
     "output_type": "stream",
     "text": [
      "Epoch 39, Loss: 0.0765, Training Accuracy: 80.95%\n",
      "\n",
      "Training for epoch: 40\n"
     ]
    },
    {
     "name": "stderr",
     "output_type": "stream",
     "text": [
      "Training Batches: 100%|██████████| 23/23 [00:31<00:00,  1.36s/it]\n"
     ]
    },
    {
     "name": "stdout",
     "output_type": "stream",
     "text": [
      "Epoch 40, Loss: 0.0905, Training Accuracy: 73.24%\n",
      "\n",
      "Training for epoch: 41\n"
     ]
    },
    {
     "name": "stderr",
     "output_type": "stream",
     "text": [
      "Training Batches: 100%|██████████| 23/23 [00:38<00:00,  1.68s/it]\n"
     ]
    },
    {
     "name": "stdout",
     "output_type": "stream",
     "text": [
      "Epoch 41, Loss: 0.0926, Training Accuracy: 70.14%\n",
      "\n",
      "Training for epoch: 42\n"
     ]
    },
    {
     "name": "stderr",
     "output_type": "stream",
     "text": [
      "Training Batches: 100%|██████████| 23/23 [00:33<00:00,  1.44s/it]\n"
     ]
    },
    {
     "name": "stdout",
     "output_type": "stream",
     "text": [
      "Epoch 42, Loss: 0.0865, Training Accuracy: 73.92%\n",
      "\n",
      "Training for epoch: 43\n"
     ]
    },
    {
     "name": "stderr",
     "output_type": "stream",
     "text": [
      "Training Batches: 100%|██████████| 23/23 [00:29<00:00,  1.27s/it]\n"
     ]
    },
    {
     "name": "stdout",
     "output_type": "stream",
     "text": [
      "Epoch 43, Loss: 0.0773, Training Accuracy: 77.30%\n",
      "\n",
      "Training for epoch: 44\n"
     ]
    },
    {
     "name": "stderr",
     "output_type": "stream",
     "text": [
      "Training Batches: 100%|██████████| 23/23 [00:29<00:00,  1.30s/it]\n"
     ]
    },
    {
     "name": "stdout",
     "output_type": "stream",
     "text": [
      "Epoch 44, Loss: 0.0716, Training Accuracy: 79.32%\n",
      "\n",
      "Training for epoch: 45\n"
     ]
    },
    {
     "name": "stderr",
     "output_type": "stream",
     "text": [
      "Training Batches: 100%|██████████| 23/23 [00:27<00:00,  1.20s/it]\n"
     ]
    },
    {
     "name": "stdout",
     "output_type": "stream",
     "text": [
      "Epoch 45, Loss: 0.0782, Training Accuracy: 78.38%\n",
      "\n",
      "Training for epoch: 46\n"
     ]
    },
    {
     "name": "stderr",
     "output_type": "stream",
     "text": [
      "Training Batches: 100%|██████████| 23/23 [00:29<00:00,  1.27s/it]\n"
     ]
    },
    {
     "name": "stdout",
     "output_type": "stream",
     "text": [
      "Epoch 46, Loss: 0.0727, Training Accuracy: 78.38%\n",
      "\n",
      "Training for epoch: 47\n"
     ]
    },
    {
     "name": "stderr",
     "output_type": "stream",
     "text": [
      "Training Batches: 100%|██████████| 23/23 [00:37<00:00,  1.61s/it]\n"
     ]
    },
    {
     "name": "stdout",
     "output_type": "stream",
     "text": [
      "Epoch 47, Loss: 0.0706, Training Accuracy: 81.89%\n",
      "\n",
      "Training for epoch: 48\n"
     ]
    },
    {
     "name": "stderr",
     "output_type": "stream",
     "text": [
      "Training Batches: 100%|██████████| 23/23 [00:21<00:00,  1.06it/s]\n"
     ]
    },
    {
     "name": "stdout",
     "output_type": "stream",
     "text": [
      "Epoch 48, Loss: 0.0664, Training Accuracy: 82.16%\n",
      "\n",
      "Training for epoch: 49\n"
     ]
    },
    {
     "name": "stderr",
     "output_type": "stream",
     "text": [
      "Training Batches: 100%|██████████| 23/23 [00:22<00:00,  1.04it/s]\n"
     ]
    },
    {
     "name": "stdout",
     "output_type": "stream",
     "text": [
      "Epoch 49, Loss: 0.0713, Training Accuracy: 80.81%\n",
      "\n",
      "Training for epoch: 50\n"
     ]
    },
    {
     "name": "stderr",
     "output_type": "stream",
     "text": [
      "Training Batches: 100%|██████████| 23/23 [00:22<00:00,  1.01it/s]"
     ]
    },
    {
     "name": "stdout",
     "output_type": "stream",
     "text": [
      "Epoch 50, Loss: 0.0640, Training Accuracy: 83.11%\n"
     ]
    },
    {
     "name": "stderr",
     "output_type": "stream",
     "text": [
      "\n"
     ]
    }
   ],
   "source": [
    "# ----------------------------\n",
    "# 8. Training the Simplified Model with Rate Coding Loss (Manual Batching)\n",
    "# ----------------------------\n",
    "\n",
    "criterion = nn.MSELoss()  # Rate coding loss (MSELoss)\n",
    "optimizer = optim.Adam(model.parameters(), lr=0.001)\n",
    "\n",
    "n_epochs_train = 50  # number of training epochs\n",
    "batch_size = 32\n",
    "\n",
    "model.train()\n",
    "early_stop = False\n",
    "for epoch in range(n_epochs_train):\n",
    "    print(f\"\\nTraining for epoch: {epoch+1}\")\n",
    "    total_loss = 0.0\n",
    "    training_correct = 0\n",
    "    total_train_samples = 0\n",
    "\n",
    "    num_batches = len(train_indices) // batch_size\n",
    "\n",
    "    for batch_idx in tqdm.tqdm(range(num_batches), desc=\"Training Batches\"):\n",
    "        batch_indices = train_indices[batch_idx * batch_size : (batch_idx + 1) * batch_size]\n",
    "        batch_segments = []\n",
    "        batch_labels = []\n",
    "        for idx in batch_indices:\n",
    "            segment, label = dataset[idx]\n",
    "            # Normalize each segment per channel\n",
    "            segment = (segment - global_mean[:, None]) / global_std[:, None]\n",
    "            batch_segments.append(segment)\n",
    "            batch_labels.append(label)\n",
    "        batch_segments = torch.stack(batch_segments)  # shape: [batch_size, n_channels, time_steps]\n",
    "        batch_labels = torch.tensor(batch_labels, dtype=torch.long)\n",
    "\n",
    "        batch_segments = batch_segments.to(device, non_blocking=True)\n",
    "        batch_labels = batch_labels.to(device, non_blocking=True)\n",
    "\n",
    "        optimizer.zero_grad()\n",
    "        outputs = model(batch_segments)\n",
    "        # Create one-hot targets for rate coding\n",
    "        target = torch.zeros_like(outputs)\n",
    "        target.scatter_(1, batch_labels.view(-1, 1), 1.0)\n",
    "        loss = criterion(outputs, target)\n",
    "        loss.backward()\n",
    "        optimizer.step()\n",
    "\n",
    "        total_loss += loss.item() * batch_segments.size(0)\n",
    "\n",
    "        # Compute predictions and accumulate correct predictions\n",
    "        preds = outputs.argmax(dim=1)\n",
    "        training_correct += (preds == batch_labels).sum().item()\n",
    "        total_train_samples += batch_segments.size(0)\n",
    "\n",
    "    epoch_loss = total_loss / len(train_indices)\n",
    "    training_accuracy = training_correct / len(train_indices) * 100\n",
    "    print(f\"Epoch {epoch+1}, Loss: {epoch_loss:.4f}, Training Accuracy: {training_accuracy:.2f}%\")\n",
    "    \n",
    "    # Early stopping if training accuracy is above 85%\n",
    "    if training_accuracy >= 85:\n",
    "        print(\"Training accuracy above 85%. Early stopping!\")\n",
    "        # Print out the parameter list (state dictionary)\n",
    "        print(\"Model parameters:\")\n",
    "        for name, param in model.named_parameters():\n",
    "            print(f\"{name}: {param.data}\")\n",
    "        early_stop = True\n",
    "        break\n",
    "\n",
    "\n",
    "\n",
    "\n"
   ]
  },
  {
   "cell_type": "code",
   "execution_count": null,
   "metadata": {},
   "outputs": [
    {
     "name": "stdout",
     "output_type": "stream",
     "text": [
      "\n",
      "Training for epoch: 1\n"
     ]
    },
    {
     "name": "stderr",
     "output_type": "stream",
     "text": [
      "Training Batches:   0%|          | 0/23 [00:00<?, ?it/s]/tmp/ipykernel_1045243/3302209973.py:28: DeprecationWarning: __array_wrap__ must accept context and return_scalar arguments (positionally) in the future. (Deprecated NumPy 2.0)\n",
      "  segment = (segment - global_mean[:, None]) / global_std[:, None]\n",
      "Training Batches: 100%|██████████| 23/23 [00:21<00:00,  1.07it/s]\n"
     ]
    },
    {
     "name": "stdout",
     "output_type": "stream",
     "text": [
      "Epoch 1, Loss: 1.0935, Training Accuracy: 76.89%\n",
      "\n",
      "Training for epoch: 2\n"
     ]
    },
    {
     "name": "stderr",
     "output_type": "stream",
     "text": [
      "Training Batches: 100%|██████████| 23/23 [00:23<00:00,  1.00s/it]\n"
     ]
    },
    {
     "name": "stdout",
     "output_type": "stream",
     "text": [
      "Epoch 2, Loss: 0.8809, Training Accuracy: 81.08%\n",
      "\n",
      "Training for epoch: 3\n"
     ]
    },
    {
     "name": "stderr",
     "output_type": "stream",
     "text": [
      "Training Batches: 100%|██████████| 23/23 [00:25<00:00,  1.10s/it]\n"
     ]
    },
    {
     "name": "stdout",
     "output_type": "stream",
     "text": [
      "Epoch 3, Loss: 0.7411, Training Accuracy: 83.51%\n",
      "\n",
      "Training for epoch: 4\n"
     ]
    },
    {
     "name": "stderr",
     "output_type": "stream",
     "text": [
      "Training Batches: 100%|██████████| 23/23 [00:33<00:00,  1.46s/it]\n"
     ]
    },
    {
     "name": "stdout",
     "output_type": "stream",
     "text": [
      "Epoch 4, Loss: 0.7032, Training Accuracy: 81.89%\n",
      "\n",
      "Training for epoch: 5\n"
     ]
    },
    {
     "name": "stderr",
     "output_type": "stream",
     "text": [
      "Training Batches: 100%|██████████| 23/23 [00:30<00:00,  1.32s/it]\n"
     ]
    },
    {
     "name": "stdout",
     "output_type": "stream",
     "text": [
      "Epoch 5, Loss: 0.6386, Training Accuracy: 83.51%\n",
      "\n",
      "Training for epoch: 6\n"
     ]
    },
    {
     "name": "stderr",
     "output_type": "stream",
     "text": [
      "Training Batches: 100%|██████████| 23/23 [00:28<00:00,  1.25s/it]\n"
     ]
    },
    {
     "name": "stdout",
     "output_type": "stream",
     "text": [
      "Epoch 6, Loss: 0.6114, Training Accuracy: 82.97%\n",
      "\n",
      "Training for epoch: 7\n"
     ]
    },
    {
     "name": "stderr",
     "output_type": "stream",
     "text": [
      "Training Batches: 100%|██████████| 23/23 [00:36<00:00,  1.57s/it]\n"
     ]
    },
    {
     "name": "stdout",
     "output_type": "stream",
     "text": [
      "Epoch 7, Loss: 0.7393, Training Accuracy: 75.41%\n",
      "\n",
      "Training for epoch: 8\n"
     ]
    },
    {
     "name": "stderr",
     "output_type": "stream",
     "text": [
      "Training Batches: 100%|██████████| 23/23 [00:28<00:00,  1.24s/it]\n"
     ]
    },
    {
     "name": "stdout",
     "output_type": "stream",
     "text": [
      "Epoch 8, Loss: 0.7258, Training Accuracy: 77.30%\n",
      "\n",
      "Training for epoch: 9\n"
     ]
    },
    {
     "name": "stderr",
     "output_type": "stream",
     "text": [
      "Training Batches: 100%|██████████| 23/23 [00:30<00:00,  1.34s/it]\n"
     ]
    },
    {
     "name": "stdout",
     "output_type": "stream",
     "text": [
      "Epoch 9, Loss: 0.6294, Training Accuracy: 79.73%\n",
      "\n",
      "Training for epoch: 10\n"
     ]
    },
    {
     "name": "stderr",
     "output_type": "stream",
     "text": [
      "Training Batches: 100%|██████████| 23/23 [00:26<00:00,  1.13s/it]\n"
     ]
    },
    {
     "name": "stdout",
     "output_type": "stream",
     "text": [
      "Epoch 10, Loss: 0.7553, Training Accuracy: 75.41%\n",
      "\n",
      "Training for epoch: 11\n"
     ]
    },
    {
     "name": "stderr",
     "output_type": "stream",
     "text": [
      "Training Batches: 100%|██████████| 23/23 [00:33<00:00,  1.46s/it]\n"
     ]
    },
    {
     "name": "stdout",
     "output_type": "stream",
     "text": [
      "Epoch 11, Loss: 0.6435, Training Accuracy: 78.38%\n",
      "\n",
      "Training for epoch: 12\n"
     ]
    },
    {
     "name": "stderr",
     "output_type": "stream",
     "text": [
      "Training Batches: 100%|██████████| 23/23 [00:36<00:00,  1.60s/it]\n"
     ]
    },
    {
     "name": "stdout",
     "output_type": "stream",
     "text": [
      "Epoch 12, Loss: 0.5246, Training Accuracy: 84.46%\n",
      "\n",
      "Training for epoch: 13\n"
     ]
    },
    {
     "name": "stderr",
     "output_type": "stream",
     "text": [
      "Training Batches: 100%|██████████| 23/23 [00:30<00:00,  1.35s/it]\n"
     ]
    },
    {
     "name": "stdout",
     "output_type": "stream",
     "text": [
      "Epoch 13, Loss: 0.4897, Training Accuracy: 86.08%\n",
      "Training accuracy above 85%. Early stopping!\n",
      "Model parameters:\n",
      "cnn.0.weight: tensor([[[ 0.0645,  0.0694, -0.0294,  0.0577, -0.0710],\n",
      "         [ 0.0186, -0.0334,  0.0479,  0.0703, -0.0517],\n",
      "         [ 0.0977,  0.0463,  0.0880,  0.0424,  0.0686],\n",
      "         ...,\n",
      "         [ 0.0661,  0.0165,  0.0161, -0.0386,  0.0300],\n",
      "         [-0.0047, -0.0280,  0.0532,  0.0052, -0.0963],\n",
      "         [-0.0316,  0.0031,  0.0305, -0.0310, -0.0976]],\n",
      "\n",
      "        [[ 0.0191, -0.0115,  0.0188,  0.0503, -0.0516],\n",
      "         [ 0.0112,  0.0326,  0.0071, -0.0336,  0.0328],\n",
      "         [ 0.0694,  0.0579,  0.0163,  0.0095,  0.0376],\n",
      "         ...,\n",
      "         [-0.0783, -0.0549,  0.0130, -0.0472, -0.0434],\n",
      "         [ 0.0384,  0.0271, -0.0465, -0.0756, -0.0415],\n",
      "         [ 0.0045,  0.1180, -0.0447, -0.0589,  0.0379]],\n",
      "\n",
      "        [[ 0.0057,  0.0263,  0.0050, -0.0104, -0.1205],\n",
      "         [ 0.0114,  0.0505, -0.0021, -0.0396,  0.0769],\n",
      "         [-0.0499, -0.0647, -0.0899, -0.0184,  0.0117],\n",
      "         ...,\n",
      "         [-0.0539, -0.0893, -0.0270, -0.0699, -0.1024],\n",
      "         [-0.0779,  0.0508, -0.1240,  0.0046, -0.0481],\n",
      "         [-0.0239,  0.0322, -0.0594, -0.0050,  0.0091]],\n",
      "\n",
      "        ...,\n",
      "\n",
      "        [[ 0.0780,  0.0742,  0.0037,  0.0449, -0.0551],\n",
      "         [ 0.0319, -0.0434,  0.0697, -0.0478,  0.0090],\n",
      "         [ 0.0683, -0.0278, -0.0460,  0.0660, -0.0404],\n",
      "         ...,\n",
      "         [-0.0269,  0.0099,  0.0460, -0.0301, -0.0392],\n",
      "         [-0.0223,  0.0566, -0.0094,  0.0395,  0.0236],\n",
      "         [ 0.0362, -0.0182,  0.0350,  0.0847,  0.0514]],\n",
      "\n",
      "        [[-0.0090, -0.0835, -0.0081, -0.0738,  0.0197],\n",
      "         [ 0.0437, -0.0013,  0.0419, -0.0186,  0.0259],\n",
      "         [ 0.0143,  0.0193,  0.0448,  0.0918, -0.0151],\n",
      "         ...,\n",
      "         [ 0.0354,  0.0598, -0.0371, -0.0266,  0.0268],\n",
      "         [-0.0240, -0.0876, -0.0861, -0.0013,  0.0150],\n",
      "         [-0.0808, -0.0572, -0.0433, -0.0438, -0.0889]],\n",
      "\n",
      "        [[ 0.0275, -0.0811,  0.0650, -0.0355, -0.0715],\n",
      "         [ 0.0380, -0.0170,  0.0702, -0.0057,  0.0267],\n",
      "         [ 0.0572, -0.0482, -0.0302,  0.0524,  0.0647],\n",
      "         ...,\n",
      "         [ 0.0271,  0.0702,  0.0863, -0.0248, -0.0263],\n",
      "         [-0.0535, -0.0399,  0.0797, -0.0456,  0.0373],\n",
      "         [ 0.0296, -0.0236, -0.0521, -0.0458,  0.0148]]], device='cuda:0')\n",
      "cnn.0.bias: tensor([ 0.0047,  0.0204,  0.0672,  0.0411, -0.0559,  0.0391,  0.0589, -0.0563,\n",
      "        -0.0246, -0.0735, -0.0684,  0.0167,  0.0412, -0.0241, -0.0588, -0.0683,\n",
      "         0.0554,  0.0381, -0.0129,  0.0166,  0.0440,  0.0006,  0.0508, -0.0025,\n",
      "        -0.0415, -0.0485,  0.0082, -0.0079,  0.0491, -0.0505,  0.0178, -0.0614,\n",
      "        -0.0068, -0.0816, -0.0323, -0.0493,  0.0613,  0.0656, -0.0336,  0.0023,\n",
      "        -0.0461, -0.0520, -0.0217,  0.0007, -0.0758, -0.0354,  0.0085, -0.0073,\n",
      "         0.0262,  0.0071,  0.0753, -0.0666, -0.0443,  0.0483,  0.0505,  0.0616,\n",
      "         0.0576, -0.0504, -0.0231, -0.0820,  0.0416,  0.0537, -0.0719, -0.0597],\n",
      "       device='cuda:0')\n",
      "cnn.1.weight: tensor([0.9795, 1.0097, 0.9608, 0.9662, 1.0152, 1.0555, 0.9597, 0.9883, 1.0107,\n",
      "        0.9931, 0.9991, 0.9611, 1.0122, 0.9982, 1.0078, 0.9620, 0.9917, 1.0370,\n",
      "        0.9718, 0.9965, 0.9457, 0.9712, 0.9974, 1.0272, 0.8975, 0.9624, 1.0607,\n",
      "        1.0070, 0.9513, 1.0173, 1.0403, 0.9649, 0.9717, 1.0054, 1.0353, 0.9676,\n",
      "        1.0513, 0.9609, 1.0065, 0.9838, 0.9775, 0.9739, 1.0004, 0.9896, 0.9958,\n",
      "        1.0030, 1.0049, 1.0186, 1.0079, 1.0125, 1.0242, 0.9914, 1.0032, 0.9796,\n",
      "        0.9702, 1.0258, 1.0319, 1.0218, 0.9331, 1.0463, 0.9978, 1.0150, 1.0029,\n",
      "        0.9788], device='cuda:0')\n",
      "cnn.1.bias: tensor([-0.0870, -0.0132, -0.0412, -0.0445,  0.0122, -0.0519, -0.0921, -0.0047,\n",
      "        -0.0044, -0.0393, -0.0317, -0.0660, -0.0317, -0.0403, -0.0688,  0.0031,\n",
      "         0.0824, -0.0036, -0.0745, -0.0055, -0.0799, -0.0759, -0.0163,  0.0149,\n",
      "        -0.1004,  0.0211,  0.0212, -0.0422, -0.0776, -0.0354, -0.0434, -0.0712,\n",
      "        -0.0106,  0.0362,  0.0043,  0.0550,  0.0686, -0.0565, -0.0559, -0.0681,\n",
      "        -0.0867, -0.0365, -0.0400, -0.0558, -0.0073, -0.0475, -0.0389, -0.0355,\n",
      "        -0.1118,  0.0278, -0.0021, -0.0602, -0.0060, -0.0405,  0.0186, -0.0516,\n",
      "        -0.0326, -0.0362,  0.0010, -0.0745, -0.0548,  0.0062, -0.0316, -0.0081],\n",
      "       device='cuda:0')\n",
      "cnn.3.weight: tensor([[[ 0.0590,  0.0460, -0.0062,  0.0319, -0.0065],\n",
      "         [ 0.0249,  0.0125,  0.0181,  0.0001,  0.0078],\n",
      "         [-0.0285,  0.0635,  0.0095,  0.0148,  0.0187],\n",
      "         ...,\n",
      "         [-0.0241,  0.0553,  0.0084, -0.0349, -0.0195],\n",
      "         [ 0.0446,  0.0508,  0.0448, -0.0196, -0.0356],\n",
      "         [ 0.0242,  0.0486,  0.0538,  0.0245,  0.0409]],\n",
      "\n",
      "        [[-0.0442, -0.0001, -0.0126, -0.0148,  0.0207],\n",
      "         [-0.0587, -0.0139, -0.0374, -0.0026, -0.0709],\n",
      "         [-0.0023, -0.0119,  0.0595,  0.0441,  0.0573],\n",
      "         ...,\n",
      "         [ 0.0133, -0.0325, -0.0105, -0.0074,  0.0150],\n",
      "         [ 0.0104, -0.0083, -0.0549, -0.0044, -0.0388],\n",
      "         [-0.0354, -0.0377,  0.0145, -0.0014, -0.0333]],\n",
      "\n",
      "        [[-0.0425,  0.0293,  0.0151, -0.0686, -0.0169],\n",
      "         [-0.0373, -0.0035, -0.0483, -0.0303, -0.0290],\n",
      "         [ 0.0002,  0.0471, -0.0418,  0.0040,  0.0174],\n",
      "         ...,\n",
      "         [ 0.0159,  0.0883,  0.0617,  0.0359,  0.0742],\n",
      "         [ 0.0248, -0.0079, -0.0638, -0.0080, -0.0180],\n",
      "         [ 0.0068,  0.0347, -0.0192, -0.0318,  0.0082]],\n",
      "\n",
      "        ...,\n",
      "\n",
      "        [[ 0.0143,  0.0536,  0.0624,  0.0089,  0.0166],\n",
      "         [-0.0657, -0.0273, -0.0190, -0.0298, -0.0711],\n",
      "         [ 0.0013, -0.0284,  0.0189,  0.0597, -0.0151],\n",
      "         ...,\n",
      "         [-0.0319,  0.0387,  0.0487,  0.0509,  0.0277],\n",
      "         [-0.0212, -0.0583,  0.0155, -0.0594, -0.0579],\n",
      "         [ 0.0045,  0.0565,  0.0929,  0.0372,  0.0191]],\n",
      "\n",
      "        [[-0.0306, -0.0065, -0.0324, -0.0028, -0.0075],\n",
      "         [-0.0348, -0.0530, -0.0072, -0.0306,  0.0138],\n",
      "         [-0.0320, -0.0598, -0.0367, -0.0499, -0.0487],\n",
      "         ...,\n",
      "         [-0.0165,  0.0069,  0.0192, -0.0583, -0.0211],\n",
      "         [ 0.0107,  0.0681,  0.0607, -0.0206,  0.0517],\n",
      "         [-0.0305,  0.0719,  0.0240,  0.0115,  0.0594]],\n",
      "\n",
      "        [[ 0.0013, -0.0403,  0.0456,  0.0183, -0.0403],\n",
      "         [ 0.0062,  0.0427,  0.0348, -0.0467, -0.0289],\n",
      "         [ 0.0754,  0.0583,  0.0289, -0.0009,  0.0758],\n",
      "         ...,\n",
      "         [ 0.0329,  0.0454, -0.0102,  0.0547,  0.0122],\n",
      "         [ 0.0404, -0.0151,  0.0404, -0.0370, -0.0049],\n",
      "         [-0.0090,  0.0152,  0.0281,  0.0791,  0.0023]]], device='cuda:0')\n",
      "cnn.3.bias: tensor([ 0.0368, -0.0127,  0.0513,  0.0377, -0.0124, -0.0337, -0.0003, -0.0174,\n",
      "         0.0506,  0.0373, -0.0142,  0.0118,  0.0271,  0.0503, -0.0515,  0.0105,\n",
      "        -0.0089, -0.0506,  0.0157,  0.0024, -0.0130,  0.0293, -0.0395, -0.0265,\n",
      "        -0.0721, -0.0292, -0.0104, -0.0257, -0.0847,  0.0159, -0.0277, -0.0492,\n",
      "        -0.0441,  0.0378, -0.0443,  0.0222,  0.0034,  0.0338, -0.0432,  0.0260,\n",
      "         0.0305, -0.0085,  0.0108, -0.0376,  0.0395,  0.0247,  0.0325, -0.0068,\n",
      "        -0.0367,  0.0459, -0.0282, -0.0121, -0.0054,  0.0246, -0.0417, -0.0305,\n",
      "        -0.0248, -0.0004,  0.0168,  0.0288,  0.0366, -0.0337,  0.0091, -0.0120],\n",
      "       device='cuda:0')\n",
      "cnn.4.weight: tensor([0.9625, 1.0621, 1.0096, 1.0148, 1.0254, 0.9944, 0.9703, 0.9795, 0.9928,\n",
      "        1.0526, 1.0431, 0.9985, 1.0029, 1.0233, 1.0133, 0.9518, 1.0324, 0.9640,\n",
      "        0.9766, 1.0232, 0.9225, 1.0049, 1.0945, 1.0137, 0.9299, 1.0088, 0.9597,\n",
      "        0.9759, 1.0325, 1.0553, 1.0183, 0.9618, 0.9536, 1.0037, 1.0017, 0.9533,\n",
      "        0.9227, 1.0617, 0.9943, 0.9811, 0.9909, 0.9742, 0.9993, 0.9492, 0.9403,\n",
      "        0.9696, 0.9204, 0.9843, 0.9577, 1.0240, 1.0308, 1.0113, 1.0122, 1.0280,\n",
      "        1.0049, 1.0411, 0.9641, 1.0056, 1.0178, 0.9930, 0.9513, 0.9591, 0.9730,\n",
      "        0.9650], device='cuda:0')\n",
      "cnn.4.bias: tensor([-0.0364,  0.0100, -0.0603, -0.0223, -0.0336, -0.0361, -0.0486, -0.0183,\n",
      "        -0.0264, -0.0257, -0.0638, -0.0561, -0.0714, -0.0516, -0.0796, -0.0281,\n",
      "         0.0079, -0.1338, -0.0351, -0.0192, -0.0509, -0.0535,  0.0513,  0.0045,\n",
      "        -0.1012, -0.0446, -0.0163, -0.0254, -0.0427, -0.0420,  0.0390, -0.0398,\n",
      "        -0.0080, -0.0168, -0.0696,  0.0074, -0.0135, -0.0130, -0.0561, -0.0285,\n",
      "        -0.0476, -0.0386, -0.0362, -0.0383, -0.0579, -0.0080, -0.1118, -0.0201,\n",
      "        -0.0595,  0.0354, -0.0096, -0.0080,  0.0133,  0.0400, -0.0498,  0.0071,\n",
      "        -0.0365, -0.0212,  0.0308, -0.0435, -0.0517, -0.0696, -0.0169, -0.1085],\n",
      "       device='cuda:0')\n",
      "cnn.6.weight: tensor([[[-0.0394,  0.0116, -0.0038, -0.0263, -0.0442],\n",
      "         [-0.0748,  0.0041, -0.0699, -0.0607, -0.0546],\n",
      "         [-0.0853,  0.0195,  0.0053, -0.0671, -0.0390],\n",
      "         ...,\n",
      "         [ 0.0119, -0.0472,  0.0264, -0.0396, -0.0224],\n",
      "         [-0.0246, -0.0487,  0.0410, -0.0227,  0.0264],\n",
      "         [-0.0615, -0.0587, -0.0497, -0.0606, -0.0128]],\n",
      "\n",
      "        [[ 0.0350, -0.0161, -0.0110,  0.0661,  0.0648],\n",
      "         [-0.0329, -0.0656,  0.0136,  0.0179, -0.0129],\n",
      "         [-0.0312, -0.0379,  0.0101,  0.0069, -0.0053],\n",
      "         ...,\n",
      "         [-0.0121, -0.0264, -0.0504, -0.0758, -0.0052],\n",
      "         [ 0.0014, -0.0171, -0.0903, -0.1040, -0.1004],\n",
      "         [-0.0403, -0.0384,  0.0501, -0.0163,  0.0272]],\n",
      "\n",
      "        [[ 0.0269,  0.0235, -0.0510,  0.0564,  0.0377],\n",
      "         [-0.0281, -0.0101,  0.0476,  0.0153, -0.0134],\n",
      "         [ 0.0319, -0.0307,  0.0665,  0.0681,  0.0512],\n",
      "         ...,\n",
      "         [-0.0093, -0.0262, -0.0304, -0.0061,  0.0377],\n",
      "         [ 0.0370,  0.0248,  0.0161, -0.0384, -0.0042],\n",
      "         [ 0.0445,  0.0259, -0.0477, -0.0447,  0.0471]],\n",
      "\n",
      "        ...,\n",
      "\n",
      "        [[ 0.0388, -0.0186,  0.0424,  0.0338, -0.0106],\n",
      "         [-0.0920, -0.0035, -0.0983, -0.0397, -0.0471],\n",
      "         [-0.0804, -0.0306, -0.0745, -0.0532,  0.0204],\n",
      "         ...,\n",
      "         [ 0.0333,  0.0539,  0.0235,  0.0179,  0.0182],\n",
      "         [-0.0147, -0.0680,  0.0111,  0.0283, -0.0083],\n",
      "         [ 0.0195,  0.0026, -0.0332, -0.0393, -0.0295]],\n",
      "\n",
      "        [[-0.0537, -0.0665, -0.0050,  0.0338, -0.0338],\n",
      "         [ 0.0629,  0.0517,  0.0650,  0.0435,  0.0662],\n",
      "         [ 0.0596, -0.0080,  0.0322,  0.0543, -0.0269],\n",
      "         ...,\n",
      "         [-0.0217,  0.0276, -0.0319, -0.0184,  0.0067],\n",
      "         [ 0.0320,  0.0129,  0.0185, -0.0073,  0.0563],\n",
      "         [-0.0257, -0.0235, -0.0262,  0.0463,  0.0354]],\n",
      "\n",
      "        [[ 0.0136, -0.0004, -0.0266, -0.0486,  0.0394],\n",
      "         [ 0.0287,  0.0231, -0.0244, -0.0535, -0.0240],\n",
      "         [-0.0213,  0.0148,  0.0803,  0.0349,  0.0860],\n",
      "         ...,\n",
      "         [-0.0570, -0.0148,  0.0185,  0.0111, -0.0070],\n",
      "         [-0.0129, -0.0135, -0.0052, -0.0615, -0.0676],\n",
      "         [-0.0391, -0.0114,  0.0177, -0.0024, -0.0384]]], device='cuda:0')\n",
      "cnn.6.bias: tensor([-0.0551,  0.0049, -0.0195,  0.0194,  0.0324, -0.0369,  0.0144, -0.0423,\n",
      "         0.0069,  0.0222,  0.0347, -0.0484, -0.0171, -0.0487, -0.0409, -0.0028,\n",
      "        -0.0152, -0.0416,  0.0194, -0.0042, -0.0437,  0.0353, -0.0232, -0.0543,\n",
      "        -0.0357,  0.0561,  0.0088, -0.0571, -0.0207, -0.0575,  0.0423,  0.0542,\n",
      "        -0.0131, -0.0247,  0.0050,  0.0713,  0.0190, -0.0116,  0.0320,  0.0022,\n",
      "        -0.0037,  0.0051,  0.0276,  0.0174,  0.0609, -0.0345,  0.0210, -0.0471,\n",
      "         0.0208,  0.0070,  0.0303, -0.0338, -0.0485, -0.0179,  0.0079, -0.0484,\n",
      "         0.0056, -0.0094,  0.0081,  0.0167, -0.0356,  0.0010, -0.0542, -0.0189],\n",
      "       device='cuda:0')\n",
      "cnn.7.weight: tensor([1.0041, 1.0449, 1.0182, 1.1621, 0.9888, 0.9937, 1.0081, 1.0195, 1.0280,\n",
      "        1.0168, 0.9854, 1.0294, 1.0515, 1.0183, 1.0493, 1.0121, 0.9863, 1.0918,\n",
      "        1.0339, 1.0050, 0.9964, 0.9603, 1.0466, 1.0261, 1.0127, 1.0280, 0.9709,\n",
      "        0.9865, 1.0304, 1.0341, 1.0187, 1.0886, 1.0090, 1.0063, 1.0472, 0.9914,\n",
      "        1.0173, 1.0255, 0.9998, 1.0383, 1.0367, 1.0268, 1.0308, 1.1567, 1.1063,\n",
      "        1.0159, 1.0489, 1.0316, 1.0489, 1.0404, 0.9786, 1.0086, 1.0047, 1.0504,\n",
      "        0.9933, 1.0632, 1.0144, 0.9937, 1.0339, 1.0430, 1.0171, 0.9852, 1.0463,\n",
      "        0.9873], device='cuda:0')\n",
      "cnn.7.bias: tensor([ 0.0021,  0.0601, -0.0164,  0.0630, -0.0288, -0.0232, -0.0071,  0.0544,\n",
      "         0.0512,  0.0066, -0.0128, -0.0074,  0.1137,  0.0234,  0.0137, -0.0570,\n",
      "        -0.0337,  0.0661,  0.0041, -0.0189, -0.0073, -0.0747,  0.0370, -0.0037,\n",
      "         0.0011,  0.0068, -0.0344, -0.0121,  0.0272, -0.0157, -0.0592,  0.1149,\n",
      "         0.0087,  0.0243, -0.0244,  0.0054,  0.0105,  0.0397, -0.0053,  0.0317,\n",
      "         0.0393, -0.0018,  0.0504,  0.0850,  0.0779, -0.0036,  0.0058,  0.0094,\n",
      "         0.0366, -0.0486, -0.0287,  0.0241,  0.0098,  0.0337, -0.0388,  0.0321,\n",
      "         0.0312, -0.0353,  0.0492,  0.0419,  0.0321, -0.0254,  0.0145, -0.0113],\n",
      "       device='cuda:0')\n",
      "reservoir.fc_in.weight: tensor([[-0.0097,  0.0987, -0.0787,  ...,  0.0545, -0.0027,  0.0257],\n",
      "        [-0.0351, -0.0839, -0.1327,  ..., -0.0305,  0.0797,  0.0473],\n",
      "        [ 0.0480,  0.1102, -0.0909,  ..., -0.1352, -0.0800, -0.0430],\n",
      "        ...,\n",
      "        [-0.0985,  0.0144, -0.0366,  ...,  0.0224, -0.0238,  0.0284],\n",
      "        [-0.0062,  0.0842,  0.0995,  ..., -0.1124,  0.0580, -0.0106],\n",
      "        [-0.1266,  0.0599, -0.0003,  ...,  0.0728, -0.0049,  0.0123]],\n",
      "       device='cuda:0')\n",
      "reservoir.fc_in.bias: tensor([ 0.0621,  0.1001,  0.1145,  0.1014, -0.0867, -0.1368,  0.0783,  0.1013,\n",
      "        -0.0507, -0.0328, -0.0397, -0.0716, -0.0543,  0.0049,  0.0080,  0.0701,\n",
      "        -0.0395, -0.1422, -0.0733,  0.0441,  0.0903,  0.0698,  0.1005, -0.0979,\n",
      "         0.1004,  0.1371,  0.0807, -0.0571, -0.1265, -0.0181, -0.0190,  0.0622,\n",
      "         0.0700,  0.0641, -0.0116, -0.0875, -0.0220, -0.0987, -0.0693,  0.0587,\n",
      "        -0.0514,  0.0557, -0.0025, -0.0012,  0.0365,  0.1464,  0.0352,  0.0692,\n",
      "         0.0504,  0.1522,  0.0546,  0.1511,  0.0311,  0.0028,  0.0860,  0.0565,\n",
      "        -0.0675, -0.0719,  0.0637,  0.0473, -0.0117,  0.1044,  0.0159, -0.1250,\n",
      "         0.1244, -0.0415,  0.0814,  0.0369, -0.1484,  0.0581, -0.1182,  0.0645,\n",
      "        -0.1028,  0.0752,  0.0437, -0.0380, -0.1007,  0.0899, -0.0118, -0.0894,\n",
      "         0.0041,  0.0769,  0.1186, -0.0874,  0.0125,  0.1235, -0.1562,  0.0513,\n",
      "         0.1028, -0.1080,  0.0952, -0.0977, -0.1340, -0.0490, -0.0498, -0.0657,\n",
      "        -0.0708, -0.1555, -0.0268,  0.0377,  0.1144,  0.0919,  0.0490,  0.0602,\n",
      "         0.0745, -0.0420,  0.1043, -0.0383,  0.0776, -0.0910, -0.1083,  0.0599,\n",
      "         0.1368, -0.0323,  0.0122,  0.1229, -0.1262,  0.0846, -0.1105, -0.0784,\n",
      "         0.0489,  0.0441,  0.0306,  0.1516, -0.0218,  0.0781,  0.1294,  0.0734,\n",
      "         0.0214,  0.0824,  0.0759,  0.0058, -0.1044,  0.0022,  0.0631, -0.1206,\n",
      "         0.0920,  0.0634, -0.0579,  0.0095,  0.0719, -0.1232, -0.1472, -0.0368,\n",
      "        -0.0651, -0.0123,  0.0839, -0.0674, -0.0924, -0.0416, -0.0726,  0.0804,\n",
      "        -0.0386, -0.0030, -0.0373, -0.1048,  0.0971, -0.0636, -0.0324, -0.0431,\n",
      "        -0.0757,  0.0093, -0.0725, -0.0804,  0.0654,  0.0067,  0.0841,  0.0367,\n",
      "         0.0371, -0.0843, -0.0447, -0.0962,  0.0911,  0.0784, -0.0145,  0.1208,\n",
      "        -0.1319,  0.0665,  0.0417,  0.0032, -0.0289,  0.0668,  0.1189, -0.0715,\n",
      "         0.0260, -0.0186,  0.1613,  0.1398,  0.0962, -0.0911, -0.1191, -0.0283,\n",
      "        -0.0166,  0.1792, -0.0431, -0.0333, -0.0260,  0.2131,  0.0281,  0.1026,\n",
      "         0.0063, -0.1342,  0.1146,  0.0333, -0.1314, -0.0900, -0.0844, -0.0562,\n",
      "        -0.1380, -0.0408,  0.0334, -0.0215,  0.0134,  0.1107,  0.1424,  0.1007,\n",
      "         0.1038,  0.1000, -0.0967,  0.0141,  0.0693,  0.0761,  0.1018, -0.0161,\n",
      "        -0.0740, -0.0276,  0.0693,  0.1142, -0.0390, -0.0810,  0.0346,  0.0009,\n",
      "         0.0131, -0.1412,  0.1119, -0.1181, -0.1305,  0.0576,  0.0581,  0.0622,\n",
      "         0.0541,  0.0091, -0.0874, -0.0557,  0.0440, -0.0919, -0.1398,  0.0301,\n",
      "        -0.1028, -0.0147, -0.0607, -0.1190,  0.0698,  0.0349, -0.1118,  0.1163,\n",
      "         0.0249, -0.0442, -0.0956, -0.0790, -0.1192, -0.0461,  0.0115,  0.0574,\n",
      "        -0.0521,  0.0208,  0.1265,  0.1349, -0.1221,  0.0129, -0.0891,  0.0351,\n",
      "        -0.0931,  0.0669, -0.0241,  0.0773,  0.1221,  0.0205, -0.0534, -0.0201,\n",
      "         0.1145, -0.0719, -0.0131, -0.1244, -0.1273, -0.0640,  0.0853, -0.1164,\n",
      "         0.0051, -0.0353,  0.0264,  0.1504,  0.0234,  0.0862,  0.0533, -0.0790,\n",
      "         0.0591,  0.0688, -0.0159, -0.1207,  0.0596, -0.0526,  0.0481,  0.0209,\n",
      "         0.1794,  0.0613, -0.0854, -0.0041,  0.0176, -0.1425, -0.0039,  0.0185,\n",
      "         0.0675, -0.0214, -0.0898, -0.1199,  0.1322,  0.0157, -0.0201,  0.0978,\n",
      "        -0.0740,  0.0142,  0.1106, -0.0655,  0.0455,  0.1141, -0.0221,  0.1377,\n",
      "         0.1289, -0.1271,  0.0351,  0.0613,  0.0905, -0.0058, -0.0885,  0.0271,\n",
      "         0.0310,  0.1226,  0.0258,  0.0390,  0.1701,  0.1264, -0.1104, -0.1346,\n",
      "        -0.0554,  0.0066,  0.0730, -0.1015, -0.0546, -0.0289, -0.1058,  0.0892,\n",
      "         0.0507,  0.0575, -0.1498, -0.1138, -0.0907, -0.1381,  0.0575, -0.0196,\n",
      "         0.0887,  0.0288, -0.0811,  0.0814,  0.1336,  0.0258,  0.0330,  0.0169,\n",
      "        -0.0646, -0.1042, -0.1132, -0.0837, -0.1038, -0.0471, -0.0318, -0.0511,\n",
      "         0.0229, -0.0714, -0.1076, -0.0480,  0.1077,  0.1196,  0.0332, -0.0583,\n",
      "         0.0209, -0.0657,  0.1284,  0.0299,  0.0102, -0.0988, -0.0153, -0.0345,\n",
      "         0.0225, -0.1447,  0.0363,  0.0879, -0.0651,  0.0653, -0.1091, -0.0398,\n",
      "        -0.0322,  0.0123,  0.1043,  0.0909, -0.0384, -0.0625,  0.0980, -0.0794,\n",
      "         0.0722,  0.1270,  0.0187,  0.0197,  0.0617,  0.1159,  0.0182, -0.0974,\n",
      "         0.0664, -0.0461, -0.0926,  0.0741,  0.1185,  0.0282, -0.0563, -0.0665,\n",
      "         0.0401,  0.1370, -0.0530,  0.0788, -0.0220,  0.0414, -0.0854,  0.1277,\n",
      "        -0.0985, -0.0508,  0.0350, -0.0030,  0.1005,  0.0218,  0.0168,  0.1063,\n",
      "        -0.0242, -0.0158, -0.0680, -0.0505, -0.0249, -0.1438, -0.0254, -0.0616,\n",
      "        -0.0068,  0.0749,  0.0401, -0.0119, -0.1407, -0.0073, -0.0187, -0.0507,\n",
      "        -0.0868, -0.0421, -0.0750, -0.0880, -0.0782,  0.1008,  0.1022,  0.1332,\n",
      "        -0.1215, -0.1129, -0.0702, -0.0183,  0.0937,  0.1079,  0.0210, -0.0053,\n",
      "         0.0281,  0.1137, -0.0057,  0.0612,  0.0944,  0.0503, -0.0229,  0.0458,\n",
      "         0.1258,  0.1253,  0.0355, -0.0519, -0.0579,  0.0240, -0.0863, -0.1029,\n",
      "        -0.1180, -0.0286,  0.1016, -0.1220, -0.0420, -0.0622, -0.0934, -0.0330,\n",
      "         0.0125,  0.0458, -0.0341, -0.0379,  0.0815,  0.0298, -0.0145, -0.1127,\n",
      "         0.1277, -0.0243,  0.0479,  0.1151,  0.0485, -0.1452,  0.0427, -0.1296],\n",
      "       device='cuda:0')\n",
      "reservoir.fc_rec.weight: tensor([[-0.0187, -0.0645, -0.0278,  ...,  0.0269,  0.0333, -0.0020],\n",
      "        [-0.0125,  0.0256,  0.0783,  ..., -0.0035,  0.0386,  0.0197],\n",
      "        [-0.0331, -0.0079,  0.0503,  ..., -0.0205, -0.0099, -0.0269],\n",
      "        ...,\n",
      "        [-0.0143, -0.0376, -0.0347,  ...,  0.0208,  0.1091, -0.0446],\n",
      "        [-0.0415, -0.0196, -0.0498,  ...,  0.0246,  0.2187, -0.0528],\n",
      "        [ 0.0038,  0.0608, -0.0056,  ...,  0.0136,  0.0790,  0.0194]],\n",
      "       device='cuda:0')\n",
      "reservoir.fc_rec.bias: tensor([-1.2235e-02, -4.2471e-02, -1.0064e-02,  5.4511e-02, -7.2087e-03,\n",
      "        -3.3672e-02,  1.2877e-03,  3.5377e-02, -4.5404e-04, -3.5642e-02,\n",
      "        -4.2702e-02,  2.4170e-02, -9.5434e-03, -3.7158e-02, -7.0996e-02,\n",
      "         4.7804e-02, -2.5860e-02, -1.2416e-02, -2.9432e-02,  4.4975e-02,\n",
      "         2.6811e-02,  1.0526e-01,  3.7765e-02,  1.2819e-02, -3.2440e-02,\n",
      "        -1.5179e-02, -5.9017e-02,  1.3774e-02, -3.9199e-02, -5.0885e-02,\n",
      "         1.2763e-02,  5.9590e-02,  2.9056e-02,  5.7564e-03,  3.5829e-02,\n",
      "         1.9570e-04,  1.9443e-02,  1.0252e-02,  1.5783e-02, -8.2820e-03,\n",
      "        -1.8123e-02, -7.5138e-03,  5.6163e-02, -3.1085e-02, -1.9319e-02,\n",
      "         7.0459e-02, -5.4569e-02, -8.8284e-03,  2.7263e-02,  2.3541e-02,\n",
      "         6.5474e-02,  1.3266e-02,  2.1802e-02,  3.0445e-02, -2.9516e-02,\n",
      "         1.9842e-02, -6.8787e-02, -1.3714e-02,  2.5915e-02, -4.8649e-02,\n",
      "        -2.4955e-02, -3.3438e-02, -6.9413e-03, -4.9758e-03, -1.0208e-02,\n",
      "        -1.7963e-02, -3.6850e-02, -2.6809e-02, -5.9842e-02, -5.4193e-02,\n",
      "        -5.9310e-02,  1.2688e-02,  5.1695e-03,  2.1168e-02,  7.5002e-03,\n",
      "         5.2759e-03, -3.5493e-02,  2.3453e-02, -4.6909e-02,  2.2362e-02,\n",
      "        -2.9564e-02,  1.8458e-02,  2.2988e-02,  4.4291e-02,  4.9412e-02,\n",
      "         4.8256e-02, -1.0481e-02, -2.2357e-02,  5.1650e-02, -6.1058e-02,\n",
      "        -5.6651e-03, -3.0500e-02, -6.3905e-02, -1.9892e-03, -2.7633e-02,\n",
      "        -1.4852e-02, -3.2886e-02, -7.5040e-02, -1.8722e-02,  2.5854e-02,\n",
      "         3.6265e-02,  2.8458e-02, -2.4381e-02,  4.9124e-02,  3.1999e-02,\n",
      "        -1.3254e-02, -3.4792e-03, -7.1122e-02, -2.7675e-02, -5.0349e-02,\n",
      "        -4.6913e-02,  3.2464e-03,  1.4231e-03,  3.9268e-02,  6.0131e-02,\n",
      "         1.8093e-02,  1.9689e-02, -1.3921e-02, -4.3047e-02,  4.6348e-02,\n",
      "         1.1793e-02, -1.4056e-02,  1.6345e-02,  1.0290e-01, -1.2317e-02,\n",
      "         1.4508e-01,  2.7637e-02, -3.1256e-02, -8.1002e-02, -3.7297e-02,\n",
      "         8.9063e-03,  3.9554e-02,  4.9008e-02,  2.7501e-02, -8.7064e-03,\n",
      "        -5.9106e-02, -4.6651e-02,  1.2726e-03,  5.8366e-02, -4.5185e-02,\n",
      "         6.7933e-02, -1.4683e-02, -2.3735e-02, -6.0890e-02,  8.0339e-03,\n",
      "         4.7879e-02, -3.5317e-02,  1.5495e-02, -1.0963e-02,  6.0324e-02,\n",
      "         1.3245e-02, -1.6899e-02,  8.2973e-03,  7.1173e-03,  7.6882e-02,\n",
      "         2.0995e-02,  2.7536e-02,  1.5508e-02, -5.2332e-02,  4.4769e-02,\n",
      "        -2.5961e-02,  1.7930e-02, -7.0988e-03,  1.3605e-02, -5.5882e-02,\n",
      "        -4.9438e-03,  4.6248e-03,  2.0621e-02,  1.9798e-02, -2.4171e-02,\n",
      "        -5.2594e-02, -3.0815e-02, -4.1634e-03,  1.5842e-02, -4.6453e-02,\n",
      "         2.4165e-03, -6.5247e-02,  1.8658e-03,  5.0005e-02,  4.3590e-02,\n",
      "        -7.1328e-03, -2.9788e-02,  5.3734e-02, -1.7284e-03,  1.9602e-02,\n",
      "         4.3963e-03,  4.4112e-02,  4.5131e-02, -8.4517e-03, -4.7601e-03,\n",
      "        -1.1915e-02,  3.5983e-02, -1.0787e-02,  6.1836e-02, -4.6032e-03,\n",
      "         2.4673e-02, -2.2343e-02,  1.7927e-01,  2.0165e-02,  6.1198e-02,\n",
      "        -2.9358e-02, -1.0328e-03,  6.6933e-02,  4.8523e-02, -1.7770e-02,\n",
      "        -1.2950e-02, -2.0124e-02,  5.5928e-03, -6.6772e-02,  7.9967e-02,\n",
      "        -1.2499e-03,  2.9174e-02, -4.0691e-03,  5.2435e-02,  5.4075e-02,\n",
      "         1.0661e-03,  6.2614e-02,  6.0466e-02, -5.1982e-02,  2.6022e-02,\n",
      "         4.5716e-02, -1.5385e-03,  4.7395e-02,  7.4147e-03, -6.0715e-02,\n",
      "        -1.9105e-02,  2.3174e-02, -5.6869e-03,  4.2176e-02,  3.5080e-03,\n",
      "        -1.7551e-03, -3.9445e-02, -3.2312e-02,  2.0162e-03,  3.9796e-02,\n",
      "        -3.1263e-02, -3.9441e-02,  3.5722e-02,  1.6228e-02, -3.5192e-03,\n",
      "         1.2666e-02, -2.2738e-02,  3.0689e-02, -3.4355e-02,  3.7553e-02,\n",
      "        -7.2283e-03, -5.9961e-02,  2.6842e-02, -2.8589e-02, -6.7373e-03,\n",
      "        -4.8404e-02,  1.1227e-02, -3.8336e-02,  4.3252e-03, -8.2985e-03,\n",
      "        -3.2772e-02, -5.8038e-02,  4.0503e-03,  1.1868e-02, -3.9804e-02,\n",
      "         2.2923e-04,  3.2374e-02, -2.0479e-02, -5.3940e-02,  8.6407e-02,\n",
      "         2.8035e-02,  1.6688e-02,  4.5445e-02, -4.1437e-02, -2.4564e-02,\n",
      "         2.6384e-02,  1.0939e-02, -5.0565e-02,  1.6927e-02, -2.6600e-02,\n",
      "        -5.3487e-02,  3.8909e-02, -7.3021e-02,  3.0408e-02,  6.7822e-03,\n",
      "        -8.1631e-03,  2.2269e-03, -4.2509e-02,  3.7489e-03,  7.9270e-03,\n",
      "         3.9062e-02, -1.8891e-02,  3.1316e-02, -2.0594e-02,  6.9868e-02,\n",
      "        -1.4122e-02,  6.8611e-02, -4.1690e-02,  1.6578e-01, -4.7599e-02,\n",
      "         4.1189e-02,  4.4456e-02,  3.4090e-02,  3.3354e-02,  2.8722e-03,\n",
      "         1.7835e-03, -3.6729e-02, -6.8525e-02, -6.2133e-02,  5.3346e-02,\n",
      "        -5.5952e-02,  2.7168e-02,  2.9678e-02,  1.0546e-02, -3.9422e-02,\n",
      "         1.9783e-03, -7.9632e-04,  1.9626e-02,  4.5123e-02, -5.5728e-03,\n",
      "        -2.8291e-02,  2.9899e-02,  1.2033e-02,  2.5033e-02,  7.6646e-02,\n",
      "         2.2302e-02, -4.8463e-02,  2.6256e-02, -7.0240e-02, -8.6909e-02,\n",
      "         6.0930e-02,  1.3020e-02,  1.8762e-02, -3.7159e-03, -5.2839e-03,\n",
      "        -9.1657e-03,  4.1621e-03, -1.5973e-02,  7.9799e-02, -6.3442e-03,\n",
      "        -4.0491e-02, -1.2835e-02, -2.4035e-02,  6.3426e-02,  6.6581e-02,\n",
      "         7.7470e-02,  1.1092e-02, -8.3094e-02,  3.8678e-03,  1.2644e-02,\n",
      "        -3.4882e-02,  3.3813e-03, -1.3674e-02,  3.7628e-03, -8.7548e-03,\n",
      "        -5.3780e-02, -3.1150e-02,  6.7450e-02,  1.4129e-03,  1.4337e-02,\n",
      "         2.0337e-02, -1.6505e-02, -8.5068e-02,  1.4042e-02, -3.5528e-02,\n",
      "         6.1172e-02,  3.4097e-02,  7.9712e-03, -3.7541e-03, -2.0369e-02,\n",
      "        -4.9078e-02, -4.6116e-03, -1.0221e-02, -1.0362e-02,  1.3578e-02,\n",
      "        -4.9285e-02,  2.1406e-02, -3.4473e-03,  2.3439e-02, -1.9218e-02,\n",
      "        -2.8998e-02,  3.4476e-02,  5.0798e-03,  2.1960e-02, -3.2617e-02,\n",
      "         8.9086e-03, -1.0814e-02,  5.6510e-02, -7.3767e-03, -1.8838e-02,\n",
      "        -2.5500e-02,  4.1029e-02,  4.4399e-03,  2.4319e-02,  3.7466e-02,\n",
      "        -4.1994e-02,  5.5272e-02, -3.9443e-02, -3.3793e-02,  2.7726e-02,\n",
      "        -3.7523e-02,  3.8304e-03,  7.6251e-03,  4.7851e-02, -1.0360e-02,\n",
      "         4.6190e-02, -4.9177e-02,  9.1562e-02,  3.5872e-02,  1.4334e-02,\n",
      "        -1.7247e-02, -2.9424e-02,  4.1151e-02,  5.2305e-02,  6.0270e-02,\n",
      "        -1.0665e-02, -8.5355e-02,  6.7221e-03,  2.9361e-02,  1.9841e-02,\n",
      "        -5.3726e-03, -1.5208e-02, -2.4336e-02, -2.8605e-02, -6.1983e-02,\n",
      "         4.9684e-02, -1.1575e-02, -3.3747e-02, -1.0438e-02, -4.2657e-02,\n",
      "         5.1592e-02, -9.5445e-03,  2.6186e-02, -3.4804e-02, -3.3577e-02,\n",
      "         3.2054e-02, -4.9915e-03, -1.6698e-02,  3.6655e-02, -6.5359e-02,\n",
      "         9.8422e-03,  2.9582e-02, -3.4160e-02,  9.5565e-04, -3.8507e-03,\n",
      "        -5.4677e-02, -4.9080e-02,  2.5175e-02,  3.0924e-02,  9.9082e-02,\n",
      "         7.7402e-03,  1.4878e-02, -7.2399e-03,  9.8208e-05,  3.7010e-02,\n",
      "         5.3408e-02,  9.0616e-03, -5.5417e-03,  2.1208e-02, -3.6589e-02,\n",
      "         8.2237e-03, -1.4450e-02,  1.8345e-02, -3.3960e-02, -1.3273e-02,\n",
      "         1.7844e-02, -2.5427e-02, -5.0469e-02,  4.9422e-02, -8.4264e-03,\n",
      "        -3.4833e-02, -4.7874e-02,  1.1663e-01,  1.2729e-02,  6.8035e-02,\n",
      "        -1.6693e-02, -5.9512e-02, -5.6000e-02,  3.0470e-02,  4.6116e-03,\n",
      "         1.4113e-02, -4.9089e-02, -7.8939e-03, -2.9784e-02,  5.5950e-02,\n",
      "         7.7751e-03,  1.1704e-01, -6.6912e-02,  3.4376e-02, -3.4145e-03,\n",
      "         1.6168e-02, -2.0698e-02,  4.4484e-02, -1.6215e-02, -1.6748e-02,\n",
      "         4.1469e-02, -1.3423e-02,  1.0772e-02, -4.0729e-02, -6.4787e-02,\n",
      "        -2.4755e-02, -5.4345e-02,  4.7849e-02,  7.9751e-02, -1.1327e-02,\n",
      "         1.8513e-02,  1.7822e-02,  2.9722e-02, -5.3298e-02,  4.6723e-02,\n",
      "        -5.4388e-02, -1.6570e-02,  2.9134e-03,  3.7304e-02, -8.0073e-02,\n",
      "         8.8517e-02, -3.4179e-02], device='cuda:0')\n",
      "classifier.fc1.weight: tensor([[-3.4760e-02, -2.9086e-02, -5.5303e-02,  ..., -5.0402e-02,\n",
      "          6.9495e-02,  4.9682e-03],\n",
      "        [-4.3920e-02, -1.5053e-02,  2.6725e-02,  ...,  1.2341e-02,\n",
      "         -7.0148e-02,  2.4325e-02],\n",
      "        [ 3.6098e-02,  4.3709e-02,  2.2787e-03,  ..., -1.9436e-02,\n",
      "          6.0078e-02, -5.7529e-02],\n",
      "        ...,\n",
      "        [ 5.7910e-05, -9.6859e-03, -3.8251e-02,  ..., -4.6992e-02,\n",
      "         -1.9445e-02, -3.6836e-03],\n",
      "        [ 3.6766e-02, -3.8153e-03,  7.1760e-03,  ..., -4.8412e-02,\n",
      "          3.4918e-02,  1.8491e-03],\n",
      "        [ 9.9795e-03,  5.2918e-03, -1.9789e-02,  ..., -1.1684e-02,\n",
      "          9.8365e-02, -3.1800e-02]], device='cuda:0')\n",
      "classifier.fc1.bias: tensor([ 0.0221, -0.0156,  0.0399,  0.0098,  0.0140, -0.0313, -0.0418, -0.0098,\n",
      "         0.0244,  0.0012, -0.0169,  0.0169, -0.0026,  0.0163, -0.0078,  0.0020,\n",
      "        -0.0427, -0.0222,  0.0095,  0.0266, -0.0267, -0.0085,  0.0148, -0.0360,\n",
      "         0.0127, -0.0368, -0.0374, -0.0324, -0.0367, -0.0071, -0.0306,  0.0102,\n",
      "         0.0096,  0.0150,  0.0282, -0.0228, -0.0284, -0.0106,  0.0039,  0.0197,\n",
      "         0.0403, -0.0296,  0.0293,  0.0308,  0.0023,  0.0037, -0.0080, -0.0156,\n",
      "         0.0155, -0.0083,  0.0313, -0.0138, -0.0292,  0.0006, -0.0137,  0.0331,\n",
      "        -0.0140,  0.0353, -0.0289,  0.0051,  0.0292, -0.0150, -0.0283, -0.0193],\n",
      "       device='cuda:0')\n",
      "classifier.bn1.weight: tensor([0.9615, 1.0007, 1.0266, 0.9930, 0.9597, 1.0576, 0.9480, 0.9884, 1.0144,\n",
      "        1.0496, 1.0076, 0.9995, 0.9415, 0.9107, 1.0230, 0.9911, 0.9648, 1.0377,\n",
      "        1.0226, 1.0396, 0.9790, 0.9971, 0.9932, 0.9932, 0.9666, 0.9644, 1.0163,\n",
      "        0.9560, 1.0066, 0.9823, 0.9220, 1.0432, 1.0445, 1.0148, 0.9416, 1.0011,\n",
      "        0.9807, 0.9792, 1.0282, 0.9604, 1.0052, 1.0266, 0.9700, 1.0481, 1.0067,\n",
      "        1.0885, 0.9868, 0.9756, 0.9676, 0.9729, 0.9827, 0.9556, 1.0340, 0.9747,\n",
      "        1.0110, 1.0440, 0.9840, 1.0292, 1.0122, 1.0194, 0.9923, 0.9553, 1.0213,\n",
      "        1.0143], device='cuda:0')\n",
      "classifier.bn1.bias: tensor([-0.0742, -0.0716, -0.0006, -0.0113, -0.0119,  0.0559, -0.0368, -0.1130,\n",
      "        -0.0491,  0.0402,  0.0617, -0.0627, -0.0699, -0.0684, -0.0333, -0.0034,\n",
      "        -0.0584,  0.0212, -0.0429, -0.0131, -0.0517, -0.0774, -0.0082,  0.0030,\n",
      "        -0.0013, -0.0893, -0.0487, -0.0940,  0.0645, -0.0131, -0.0650,  0.1127,\n",
      "         0.0540,  0.0187, -0.0925, -0.0147, -0.0065, -0.0874, -0.0715, -0.0958,\n",
      "        -0.0299,  0.0365, -0.0772,  0.0402,  0.0859, -0.0168, -0.0352,  0.0262,\n",
      "        -0.0683, -0.0107, -0.0326, -0.0503,  0.0668, -0.0225,  0.0113, -0.0111,\n",
      "         0.0116, -0.0335,  0.0462, -0.0298, -0.0199, -0.0027, -0.0418, -0.0458],\n",
      "       device='cuda:0')\n",
      "classifier.fc2.weight: tensor([[-0.1139, -0.0679, -0.0330,  ...,  0.1092, -0.0208, -0.1480],\n",
      "        [-0.0884, -0.0835, -0.0792,  ...,  0.0551,  0.0108, -0.0064],\n",
      "        [-0.0912, -0.0302,  0.1411,  ..., -0.2605, -0.0455, -0.0427],\n",
      "        ...,\n",
      "        [ 0.1111, -0.1171, -0.0845,  ...,  0.0827,  0.0933, -0.1157],\n",
      "        [ 0.0230,  0.0327, -0.0298,  ..., -0.0356,  0.0840, -0.0801],\n",
      "        [-0.0728, -0.0220, -0.0429,  ..., -0.1429, -0.0519,  0.1095]],\n",
      "       device='cuda:0')\n",
      "classifier.fc2.bias: tensor([-0.0821,  0.0341, -0.0957, -0.0754,  0.0216, -0.0397, -0.1179,  0.0196,\n",
      "         0.0944, -0.1069, -0.0751,  0.0899,  0.0626,  0.0837, -0.1178, -0.1107,\n",
      "         0.0725, -0.0889,  0.0366, -0.0909,  0.0887,  0.0311, -0.0433,  0.0518,\n",
      "        -0.1157,  0.0501,  0.1179,  0.1020,  0.0010, -0.0132,  0.1043,  0.0721],\n",
      "       device='cuda:0')\n",
      "classifier.bn2.weight: tensor([1.0591, 1.1178, 1.0868, 1.0467, 1.0696, 1.0013, 1.1003, 1.0687, 1.0268,\n",
      "        1.0186, 0.9628, 1.0365, 1.0672, 1.0763, 1.0549, 1.1119, 1.0497, 1.0111,\n",
      "        1.0355, 1.0478, 1.0269, 1.0614, 1.0832, 1.0766, 1.0290, 1.0151, 1.0121,\n",
      "        1.0204, 1.0800, 1.0269, 1.0377, 1.0648], device='cuda:0')\n",
      "classifier.bn2.bias: tensor([-0.0150,  0.0990,  0.1477,  0.1215,  0.1192, -0.1244,  0.0987,  0.0852,\n",
      "        -0.0187, -0.0849, -0.2036,  0.0397,  0.0888,  0.0228,  0.0015,  0.1044,\n",
      "         0.0258, -0.0050, -0.0078,  0.0914,  0.0448,  0.0636,  0.0508,  0.0471,\n",
      "        -0.0982,  0.0765,  0.0700,  0.0718,  0.0681, -0.0506, -0.0275,  0.0229],\n",
      "       device='cuda:0')\n",
      "classifier.fc3.weight: tensor([[-0.1161, -0.1128, -0.0825, -0.0688, -0.0928, -0.0417, -0.1141, -0.1014,\n",
      "         -0.0984, -0.0493, -0.0440, -0.0911, -0.0950, -0.0868, -0.0659, -0.0675,\n",
      "         -0.0732, -0.0503, -0.0877, -0.0832, -0.0755, -0.1106, -0.0899, -0.0689,\n",
      "         -0.1304, -0.0820, -0.0821, -0.0872, -0.1198, -0.1089, -0.0871, -0.0853],\n",
      "        [-0.1220,  0.0383, -0.0282, -0.0396,  0.1830, -0.1060,  0.0870, -0.0689,\n",
      "         -0.1073,  0.0231, -0.0246,  0.2024,  0.1778,  0.0594,  0.1996,  0.1342,\n",
      "          0.2044,  0.0115,  0.2017,  0.2043, -0.0825,  0.1887,  0.0094,  0.1932,\n",
      "         -0.1408,  0.2026,  0.1979,  0.1955,  0.0581, -0.1154, -0.0942,  0.2205],\n",
      "        [-0.1520, -0.2014,  0.0458,  0.1572,  0.0046,  0.1972, -0.1473, -0.1361,\n",
      "          0.2244,  0.2150, -0.1602, -0.1317, -0.0968,  0.2035, -0.1037,  0.1455,\n",
      "         -0.1473, -0.0914, -0.1149, -0.1448,  0.1473,  0.1497, -0.1781, -0.1397,\n",
      "          0.2132,  0.0100, -0.1324, -0.1564,  0.1877,  0.2203,  0.2225, -0.0077],\n",
      "        [-0.1104, -0.1741,  0.1597, -0.0998, -0.1444, -0.1357, -0.1404, -0.0506,\n",
      "         -0.1019, -0.0884,  0.1710, -0.0912, -0.1168, -0.1617, -0.1245, -0.1617,\n",
      "         -0.1136,  0.1475, -0.1476, -0.1312, -0.0854, -0.1464, -0.1616, -0.0851,\n",
      "         -0.0735, -0.1284, -0.1334, -0.1346, -0.0884, -0.1435, -0.1170, -0.1484],\n",
      "        [ 0.2501,  0.2415, -0.1863, -0.1577, -0.1641, -0.1596,  0.2238,  0.1815,\n",
      "         -0.1326, -0.0500, -0.1582, -0.0493, -0.1193, -0.1629, -0.1130, -0.1930,\n",
      "         -0.1208, -0.1100, -0.1404, -0.0746, -0.1345, -0.1909,  0.2453, -0.1391,\n",
      "         -0.1547, -0.1661, -0.1139,  0.0031, -0.1821, -0.1437, -0.1459, -0.1778]],\n",
      "       device='cuda:0')\n",
      "classifier.fc3.bias: tensor([-0.0996,  0.2439,  0.2018,  0.0026,  0.2486], device='cuda:0')\n"
     ]
    }
   ],
   "source": [
    "# ----------------------------\n",
    "# Use CrossEntropyLoss instead of MSELoss\n",
    "# ----------------------------\n",
    "criterion = nn.CrossEntropyLoss()\n",
    "optimizer = optim.Adam(model.parameters(), lr=0.001)\n",
    "n_epochs_train = 50  # number of training epochs\n",
    "batch_size = 32\n",
    "# ----------------------------\n",
    "# 8. Training the Simplified Model with Cross-Entropy Loss (Manual Batching)\n",
    "# ----------------------------\n",
    "model.train()\n",
    "early_stop = False\n",
    "for epoch in range(n_epochs_train):\n",
    "    print(f\"\\nTraining for epoch: {epoch+1}\")\n",
    "    total_loss = 0.0\n",
    "    training_correct = 0\n",
    "    total_train_samples = 0\n",
    "\n",
    "    num_batches = len(train_indices) // batch_size\n",
    "\n",
    "    for batch_idx in tqdm.tqdm(range(num_batches), desc=\"Training Batches\"):\n",
    "        batch_indices = train_indices[batch_idx * batch_size : (batch_idx + 1) * batch_size]\n",
    "        batch_segments = []\n",
    "        batch_labels = []\n",
    "        for idx in batch_indices:\n",
    "            segment, label = dataset[idx]\n",
    "            # Normalize using the global mean and std (per channel)\n",
    "            segment = (segment - global_mean[:, None]) / global_std[:, None]\n",
    "            batch_segments.append(segment)\n",
    "            batch_labels.append(label)\n",
    "        batch_segments = torch.stack(batch_segments)  # shape: [batch_size, n_channels, time_steps]\n",
    "        batch_labels = torch.tensor(batch_labels, dtype=torch.long)\n",
    "\n",
    "        batch_segments = batch_segments.to(device, non_blocking=True)\n",
    "        batch_labels = batch_labels.to(device, non_blocking=True)\n",
    "\n",
    "        optimizer.zero_grad()\n",
    "        outputs = model(batch_segments)  # outputs: raw logits of shape [batch_size, n_classes]\n",
    "        loss = criterion(outputs, batch_labels)\n",
    "        loss.backward()\n",
    "        optimizer.step()\n",
    "        total_loss += loss.item() * batch_segments.size(0)\n",
    "\n",
    "        # Compute predictions and accumulate correct predictions\n",
    "        preds = outputs.argmax(dim=1)\n",
    "        training_correct += (preds == batch_labels).sum().item()\n",
    "        total_train_samples += batch_segments.size(0)\n",
    "\n",
    "    epoch_loss = total_loss / len(train_indices)\n",
    "    training_accuracy = training_correct / len(train_indices) * 100\n",
    "    print(f\"Epoch {epoch+1}, Loss: {epoch_loss:.4f}, Training Accuracy: {training_accuracy:.2f}%\")\n",
    "\n",
    "    # Early stopping condition (optional): stop if training accuracy >= 85%\n",
    "    if training_accuracy >= 85:\n",
    "        print(\"Training accuracy above 85%. Early stopping!\")\n",
    "        print(\"Model parameters:\")\n",
    "        for name, param in model.named_parameters():\n",
    "            print(f\"{name}: {param.data}\")\n",
    "        early_stop = True\n",
    "        break"
   ]
  },
  {
   "cell_type": "code",
   "execution_count": null,
   "metadata": {},
   "outputs": [
    {
     "name": "stderr",
     "output_type": "stream",
     "text": [
      "Evaluation Batches:   0%|          | 0/5 [00:00<?, ?it/s]/tmp/ipykernel_1045243/479781885.py:14: DeprecationWarning: __array_wrap__ must accept context and return_scalar arguments (positionally) in the future. (Deprecated NumPy 2.0)\n",
      "  segment = (segment - global_mean[:, None]) / global_std[:, None]\n",
      "Evaluation Batches: 100%|██████████| 5/5 [00:04<00:00,  1.04it/s]"
     ]
    },
    {
     "name": "stdout",
     "output_type": "stream",
     "text": [
      "\n",
      "Evaluation Accuracy (Test Set): 67.50%\n"
     ]
    },
    {
     "name": "stderr",
     "output_type": "stream",
     "text": [
      "\n"
     ]
    }
   ],
   "source": [
    "# If early stopping was triggered, evaluate on the test set immediately\n",
    "if early_stop:\n",
    "    model.eval()\n",
    "    correct = 0\n",
    "    with torch.no_grad():\n",
    "        num_batches_eval = len(eval_indices) // batch_size\n",
    "        for batch_idx in tqdm.tqdm(range(num_batches_eval), desc=\"Evaluation Batches\"):\n",
    "            batch_indices = eval_indices[batch_idx * batch_size : (batch_idx + 1) * batch_size]\n",
    "            batch_segments = []\n",
    "            batch_labels = []\n",
    "            for idx in batch_indices:\n",
    "                segment, label = dataset[idx]\n",
    "                # Normalize using the same global statistics\n",
    "                segment = (segment - global_mean[:, None]) / global_std[:, None]\n",
    "                batch_segments.append(segment)\n",
    "                batch_labels.append(label)\n",
    "            batch_segments = torch.stack(batch_segments)\n",
    "            batch_labels = torch.tensor(batch_labels, dtype=torch.long)\n",
    "            batch_segments = batch_segments.to(device, non_blocking=True)\n",
    "            batch_labels = batch_labels.to(device, non_blocking=True)\n",
    "            outputs = model(batch_segments)\n",
    "            preds = outputs.argmax(dim=1)\n",
    "            correct += (preds == batch_labels).sum().item()\n",
    "\n",
    "    test_accuracy = correct / (num_batches_eval * batch_size) * 100\n",
    "    print(f\"\\nEvaluation Accuracy (Test Set): {test_accuracy:.2f}%\")"
   ]
  },
  {
   "cell_type": "code",
   "execution_count": null,
   "metadata": {},
   "outputs": [
    {
     "name": "stderr",
     "output_type": "stream",
     "text": [
      "Evaluation Batches:   0%|          | 0/5 [00:00<?, ?it/s]/tmp/ipykernel_1045243/4232751350.py:15: DeprecationWarning: __array_wrap__ must accept context and return_scalar arguments (positionally) in the future. (Deprecated NumPy 2.0)\n",
      "  segment = (segment - global_mean[:, None]) / global_std[:, None]\n",
      "Evaluation Batches: 100%|██████████| 5/5 [00:05<00:00,  1.16s/it]"
     ]
    },
    {
     "name": "stdout",
     "output_type": "stream",
     "text": [
      "\n",
      "Evaluation Accuracy: 67.50%\n"
     ]
    },
    {
     "name": "stderr",
     "output_type": "stream",
     "text": [
      "\n"
     ]
    }
   ],
   "source": [
    "# ---------------------------- Evaluation without stopping -------\n",
    "# 9. Evaluate the Simplified Model with Rate Coding (Manual Batching)\n",
    "# ----------------------------\n",
    "model.eval()\n",
    "correct = 0\n",
    "with torch.no_grad():\n",
    "    num_batches_eval = len(eval_indices) // batch_size\n",
    "    for batch_idx in tqdm.tqdm(range(num_batches_eval), desc=\"Evaluation Batches\"):\n",
    "        batch_indices = eval_indices[batch_idx * batch_size : (batch_idx + 1) * batch_size]\n",
    "        batch_segments = []\n",
    "        batch_labels = []\n",
    "        for idx in batch_indices:\n",
    "            segment, label = dataset[idx]\n",
    "            # Use the same global normalization\n",
    "            segment = (segment - global_mean[:, None]) / global_std[:, None]\n",
    "            batch_segments.append(segment)\n",
    "            batch_labels.append(label)\n",
    "        batch_segments = torch.stack(batch_segments)\n",
    "        batch_labels = torch.tensor(batch_labels, dtype=torch.long)\n",
    "        batch_segments = batch_segments.to(device, non_blocking=True)\n",
    "        batch_labels = batch_labels.to(device, non_blocking=True)\n",
    "        outputs = model(batch_segments)\n",
    "        preds = outputs.argmax(dim=1)\n",
    "        correct += (preds == batch_labels).sum().item()\n",
    "\n",
    "accuracy = correct / (num_batches_eval * batch_size) * 100\n",
    "print(f\"\\nEvaluation Accuracy: {accuracy:.2f}%\")\n"
   ]
  },
  {
   "cell_type": "code",
   "execution_count": null,
   "metadata": {},
   "outputs": [
    {
     "name": "stderr",
     "output_type": "stream",
     "text": [
      "Extracting Features:   0%|          | 0/23 [00:00<?, ?it/s]/tmp/ipykernel_1045243/598595992.py:15: DeprecationWarning: __array_wrap__ must accept context and return_scalar arguments (positionally) in the future. (Deprecated NumPy 2.0)\n",
      "  segment = (segment - global_mean[:, None]) / global_std[:, None]\n",
      "Extracting Features:   0%|          | 0/23 [00:01<?, ?it/s]\n"
     ]
    },
    {
     "ename": "RuntimeError",
     "evalue": "mat1 and mat2 shapes cannot be multiplied (32x35 and 64x512)",
     "output_type": "error",
     "traceback": [
      "\u001b[0;31m---------------------------------------------------------------------------\u001b[0m",
      "\u001b[0;31mRuntimeError\u001b[0m                              Traceback (most recent call last)",
      "Cell \u001b[0;32mIn[9], line 30\u001b[0m\n\u001b[1;32m     27\u001b[0m     \u001b[38;5;28;01mreturn\u001b[39;00m X, y\n\u001b[1;32m     29\u001b[0m \u001b[38;5;66;03m# Extract features from training and evaluation sets\u001b[39;00m\n\u001b[0;32m---> 30\u001b[0m X_train, y_train \u001b[38;5;241m=\u001b[39m \u001b[43mextract_reservoir_features\u001b[49m\u001b[43m(\u001b[49m\u001b[43mmodel\u001b[49m\u001b[43m,\u001b[49m\u001b[43m \u001b[49m\u001b[43mtrain_indices\u001b[49m\u001b[43m,\u001b[49m\u001b[43m \u001b[49m\u001b[43mbatch_size\u001b[49m\u001b[43m)\u001b[49m\n\u001b[1;32m     31\u001b[0m X_eval, y_eval \u001b[38;5;241m=\u001b[39m extract_reservoir_features(model, eval_indices, batch_size)\n\u001b[1;32m     33\u001b[0m \u001b[38;5;66;03m# Train classical classifiers using scikit-learn.\u001b[39;00m\n",
      "Cell \u001b[0;32mIn[9], line 22\u001b[0m, in \u001b[0;36mextract_reservoir_features\u001b[0;34m(model, indices, batch_size)\u001b[0m\n\u001b[1;32m     20\u001b[0m batch_segments \u001b[38;5;241m=\u001b[39m batch_segments\u001b[38;5;241m.\u001b[39mto(device, non_blocking\u001b[38;5;241m=\u001b[39m\u001b[38;5;28;01mTrue\u001b[39;00m)\n\u001b[1;32m     21\u001b[0m \u001b[38;5;66;03m# Extract reservoir features directly from the reservoir module.\u001b[39;00m\n\u001b[0;32m---> 22\u001b[0m features \u001b[38;5;241m=\u001b[39m \u001b[43mmodel\u001b[49m\u001b[38;5;241;43m.\u001b[39;49m\u001b[43mreservoir\u001b[49m\u001b[43m(\u001b[49m\u001b[43mbatch_segments\u001b[49m\u001b[43m)\u001b[49m\n\u001b[1;32m     23\u001b[0m features_list\u001b[38;5;241m.\u001b[39mappend(features\u001b[38;5;241m.\u001b[39mcpu()\u001b[38;5;241m.\u001b[39mnumpy())\n\u001b[1;32m     24\u001b[0m labels_list\u001b[38;5;241m.\u001b[39mappend(batch_labels\u001b[38;5;241m.\u001b[39mcpu()\u001b[38;5;241m.\u001b[39mnumpy())\n",
      "File \u001b[0;32m~/miniconda3/envs/eeg/lib/python3.9/site-packages/torch/nn/modules/module.py:1739\u001b[0m, in \u001b[0;36mModule._wrapped_call_impl\u001b[0;34m(self, *args, **kwargs)\u001b[0m\n\u001b[1;32m   1737\u001b[0m     \u001b[38;5;28;01mreturn\u001b[39;00m \u001b[38;5;28mself\u001b[39m\u001b[38;5;241m.\u001b[39m_compiled_call_impl(\u001b[38;5;241m*\u001b[39margs, \u001b[38;5;241m*\u001b[39m\u001b[38;5;241m*\u001b[39mkwargs)  \u001b[38;5;66;03m# type: ignore[misc]\u001b[39;00m\n\u001b[1;32m   1738\u001b[0m \u001b[38;5;28;01melse\u001b[39;00m:\n\u001b[0;32m-> 1739\u001b[0m     \u001b[38;5;28;01mreturn\u001b[39;00m \u001b[38;5;28;43mself\u001b[39;49m\u001b[38;5;241;43m.\u001b[39;49m\u001b[43m_call_impl\u001b[49m\u001b[43m(\u001b[49m\u001b[38;5;241;43m*\u001b[39;49m\u001b[43margs\u001b[49m\u001b[43m,\u001b[49m\u001b[43m \u001b[49m\u001b[38;5;241;43m*\u001b[39;49m\u001b[38;5;241;43m*\u001b[39;49m\u001b[43mkwargs\u001b[49m\u001b[43m)\u001b[49m\n",
      "File \u001b[0;32m~/miniconda3/envs/eeg/lib/python3.9/site-packages/torch/nn/modules/module.py:1750\u001b[0m, in \u001b[0;36mModule._call_impl\u001b[0;34m(self, *args, **kwargs)\u001b[0m\n\u001b[1;32m   1745\u001b[0m \u001b[38;5;66;03m# If we don't have any hooks, we want to skip the rest of the logic in\u001b[39;00m\n\u001b[1;32m   1746\u001b[0m \u001b[38;5;66;03m# this function, and just call forward.\u001b[39;00m\n\u001b[1;32m   1747\u001b[0m \u001b[38;5;28;01mif\u001b[39;00m \u001b[38;5;129;01mnot\u001b[39;00m (\u001b[38;5;28mself\u001b[39m\u001b[38;5;241m.\u001b[39m_backward_hooks \u001b[38;5;129;01mor\u001b[39;00m \u001b[38;5;28mself\u001b[39m\u001b[38;5;241m.\u001b[39m_backward_pre_hooks \u001b[38;5;129;01mor\u001b[39;00m \u001b[38;5;28mself\u001b[39m\u001b[38;5;241m.\u001b[39m_forward_hooks \u001b[38;5;129;01mor\u001b[39;00m \u001b[38;5;28mself\u001b[39m\u001b[38;5;241m.\u001b[39m_forward_pre_hooks\n\u001b[1;32m   1748\u001b[0m         \u001b[38;5;129;01mor\u001b[39;00m _global_backward_pre_hooks \u001b[38;5;129;01mor\u001b[39;00m _global_backward_hooks\n\u001b[1;32m   1749\u001b[0m         \u001b[38;5;129;01mor\u001b[39;00m _global_forward_hooks \u001b[38;5;129;01mor\u001b[39;00m _global_forward_pre_hooks):\n\u001b[0;32m-> 1750\u001b[0m     \u001b[38;5;28;01mreturn\u001b[39;00m \u001b[43mforward_call\u001b[49m\u001b[43m(\u001b[49m\u001b[38;5;241;43m*\u001b[39;49m\u001b[43margs\u001b[49m\u001b[43m,\u001b[49m\u001b[43m \u001b[49m\u001b[38;5;241;43m*\u001b[39;49m\u001b[38;5;241;43m*\u001b[39;49m\u001b[43mkwargs\u001b[49m\u001b[43m)\u001b[49m\n\u001b[1;32m   1752\u001b[0m result \u001b[38;5;241m=\u001b[39m \u001b[38;5;28;01mNone\u001b[39;00m\n\u001b[1;32m   1753\u001b[0m called_always_called_hooks \u001b[38;5;241m=\u001b[39m \u001b[38;5;28mset\u001b[39m()\n",
      "Cell \u001b[0;32mIn[2], line 67\u001b[0m, in \u001b[0;36mSpikingJellyReservoirSNN.forward\u001b[0;34m(self, x)\u001b[0m\n\u001b[1;32m     65\u001b[0m \u001b[38;5;28;01mfor\u001b[39;00m t \u001b[38;5;129;01min\u001b[39;00m \u001b[38;5;28mrange\u001b[39m(time_steps):\n\u001b[1;32m     66\u001b[0m     input_t \u001b[38;5;241m=\u001b[39m x[:, :, t]  \u001b[38;5;66;03m# shape: (batch_size, n_channels)\u001b[39;00m\n\u001b[0;32m---> 67\u001b[0m     I_in \u001b[38;5;241m=\u001b[39m F\u001b[38;5;241m.\u001b[39mrelu(\u001b[38;5;28;43mself\u001b[39;49m\u001b[38;5;241;43m.\u001b[39;49m\u001b[43mfc_in\u001b[49m\u001b[43m(\u001b[49m\u001b[43minput_t\u001b[49m\u001b[43m)\u001b[49m \u001b[38;5;241m+\u001b[39m \u001b[38;5;28mself\u001b[39m\u001b[38;5;241m.\u001b[39mfc_rec(spikes))\u001b[38;5;66;03m#第二项这里实现递归，将上一轮的脉冲数量传递给递归层进行计算\u001b[39;00m\n\u001b[1;32m     68\u001b[0m     spikes \u001b[38;5;241m=\u001b[39m \u001b[38;5;28mself\u001b[39m\u001b[38;5;241m.\u001b[39mlif(I_in)\u001b[38;5;66;03m#这里实际上算是将所有的节点都作为lif神经元进行计算了\u001b[39;00m\n\u001b[1;32m     69\u001b[0m     spike_counts \u001b[38;5;241m+\u001b[39m\u001b[38;5;241m=\u001b[39m spikes\n",
      "File \u001b[0;32m~/miniconda3/envs/eeg/lib/python3.9/site-packages/torch/nn/modules/module.py:1739\u001b[0m, in \u001b[0;36mModule._wrapped_call_impl\u001b[0;34m(self, *args, **kwargs)\u001b[0m\n\u001b[1;32m   1737\u001b[0m     \u001b[38;5;28;01mreturn\u001b[39;00m \u001b[38;5;28mself\u001b[39m\u001b[38;5;241m.\u001b[39m_compiled_call_impl(\u001b[38;5;241m*\u001b[39margs, \u001b[38;5;241m*\u001b[39m\u001b[38;5;241m*\u001b[39mkwargs)  \u001b[38;5;66;03m# type: ignore[misc]\u001b[39;00m\n\u001b[1;32m   1738\u001b[0m \u001b[38;5;28;01melse\u001b[39;00m:\n\u001b[0;32m-> 1739\u001b[0m     \u001b[38;5;28;01mreturn\u001b[39;00m \u001b[38;5;28;43mself\u001b[39;49m\u001b[38;5;241;43m.\u001b[39;49m\u001b[43m_call_impl\u001b[49m\u001b[43m(\u001b[49m\u001b[38;5;241;43m*\u001b[39;49m\u001b[43margs\u001b[49m\u001b[43m,\u001b[49m\u001b[43m \u001b[49m\u001b[38;5;241;43m*\u001b[39;49m\u001b[38;5;241;43m*\u001b[39;49m\u001b[43mkwargs\u001b[49m\u001b[43m)\u001b[49m\n",
      "File \u001b[0;32m~/miniconda3/envs/eeg/lib/python3.9/site-packages/torch/nn/modules/module.py:1750\u001b[0m, in \u001b[0;36mModule._call_impl\u001b[0;34m(self, *args, **kwargs)\u001b[0m\n\u001b[1;32m   1745\u001b[0m \u001b[38;5;66;03m# If we don't have any hooks, we want to skip the rest of the logic in\u001b[39;00m\n\u001b[1;32m   1746\u001b[0m \u001b[38;5;66;03m# this function, and just call forward.\u001b[39;00m\n\u001b[1;32m   1747\u001b[0m \u001b[38;5;28;01mif\u001b[39;00m \u001b[38;5;129;01mnot\u001b[39;00m (\u001b[38;5;28mself\u001b[39m\u001b[38;5;241m.\u001b[39m_backward_hooks \u001b[38;5;129;01mor\u001b[39;00m \u001b[38;5;28mself\u001b[39m\u001b[38;5;241m.\u001b[39m_backward_pre_hooks \u001b[38;5;129;01mor\u001b[39;00m \u001b[38;5;28mself\u001b[39m\u001b[38;5;241m.\u001b[39m_forward_hooks \u001b[38;5;129;01mor\u001b[39;00m \u001b[38;5;28mself\u001b[39m\u001b[38;5;241m.\u001b[39m_forward_pre_hooks\n\u001b[1;32m   1748\u001b[0m         \u001b[38;5;129;01mor\u001b[39;00m _global_backward_pre_hooks \u001b[38;5;129;01mor\u001b[39;00m _global_backward_hooks\n\u001b[1;32m   1749\u001b[0m         \u001b[38;5;129;01mor\u001b[39;00m _global_forward_hooks \u001b[38;5;129;01mor\u001b[39;00m _global_forward_pre_hooks):\n\u001b[0;32m-> 1750\u001b[0m     \u001b[38;5;28;01mreturn\u001b[39;00m \u001b[43mforward_call\u001b[49m\u001b[43m(\u001b[49m\u001b[38;5;241;43m*\u001b[39;49m\u001b[43margs\u001b[49m\u001b[43m,\u001b[49m\u001b[43m \u001b[49m\u001b[38;5;241;43m*\u001b[39;49m\u001b[38;5;241;43m*\u001b[39;49m\u001b[43mkwargs\u001b[49m\u001b[43m)\u001b[49m\n\u001b[1;32m   1752\u001b[0m result \u001b[38;5;241m=\u001b[39m \u001b[38;5;28;01mNone\u001b[39;00m\n\u001b[1;32m   1753\u001b[0m called_always_called_hooks \u001b[38;5;241m=\u001b[39m \u001b[38;5;28mset\u001b[39m()\n",
      "File \u001b[0;32m~/miniconda3/envs/eeg/lib/python3.9/site-packages/torch/nn/modules/linear.py:125\u001b[0m, in \u001b[0;36mLinear.forward\u001b[0;34m(self, input)\u001b[0m\n\u001b[1;32m    124\u001b[0m \u001b[38;5;28;01mdef\u001b[39;00m\u001b[38;5;250m \u001b[39m\u001b[38;5;21mforward\u001b[39m(\u001b[38;5;28mself\u001b[39m, \u001b[38;5;28minput\u001b[39m: Tensor) \u001b[38;5;241m-\u001b[39m\u001b[38;5;241m>\u001b[39m Tensor:\n\u001b[0;32m--> 125\u001b[0m     \u001b[38;5;28;01mreturn\u001b[39;00m \u001b[43mF\u001b[49m\u001b[38;5;241;43m.\u001b[39;49m\u001b[43mlinear\u001b[49m\u001b[43m(\u001b[49m\u001b[38;5;28;43minput\u001b[39;49m\u001b[43m,\u001b[49m\u001b[43m \u001b[49m\u001b[38;5;28;43mself\u001b[39;49m\u001b[38;5;241;43m.\u001b[39;49m\u001b[43mweight\u001b[49m\u001b[43m,\u001b[49m\u001b[43m \u001b[49m\u001b[38;5;28;43mself\u001b[39;49m\u001b[38;5;241;43m.\u001b[39;49m\u001b[43mbias\u001b[49m\u001b[43m)\u001b[49m\n",
      "\u001b[0;31mRuntimeError\u001b[0m: mat1 and mat2 shapes cannot be multiplied (32x35 and 64x512)"
     ]
    }
   ],
   "source": [
    "#Multiple other classifiers\n",
    "# We'll define a helper function to extract features from the reservoir.\n",
    "def extract_reservoir_features(model, indices, batch_size=32):\n",
    "    model.eval()\n",
    "    features_list = []\n",
    "    labels_list = []\n",
    "    with torch.no_grad():\n",
    "        num_batches = len(indices) // batch_size\n",
    "        for batch_idx in tqdm.tqdm(range(num_batches), desc=\"Extracting Features\"):\n",
    "            batch_indices = indices[batch_idx * batch_size : (batch_idx + 1) * batch_size]\n",
    "            batch_segments = []\n",
    "            batch_labels = []\n",
    "            for idx in batch_indices:\n",
    "                segment, label = dataset[idx]\n",
    "                segment = (segment - global_mean[:, None]) / global_std[:, None]\n",
    "                batch_segments.append(segment)\n",
    "                batch_labels.append(label)\n",
    "            batch_segments = torch.stack(batch_segments)  # shape: [batch_size, n_channels, time_steps]\n",
    "            batch_labels = torch.tensor(batch_labels, dtype=torch.long)\n",
    "            batch_segments = batch_segments.to(device, non_blocking=True)\n",
    "            # Extract reservoir features directly from the reservoir module.\n",
    "            features = model.reservoir(batch_segments)\n",
    "            features_list.append(features.cpu().numpy())\n",
    "            labels_list.append(batch_labels.cpu().numpy())\n",
    "    X = np.concatenate(features_list, axis=0)\n",
    "    y = np.concatenate(labels_list, axis=0)\n",
    "    return X, y\n",
    "\n",
    "# Extract features from training and evaluation sets\n",
    "X_train, y_train = extract_reservoir_features(model, train_indices, batch_size)\n",
    "X_eval, y_eval = extract_reservoir_features(model, eval_indices, batch_size)\n",
    "\n",
    "# Train classical classifiers using scikit-learn.\n",
    "from sklearn.linear_model import LogisticRegression\n",
    "from sklearn.ensemble import RandomForestClassifier\n",
    "from sklearn.svm import SVC\n",
    "from sklearn.metrics import accuracy_score\n",
    "\n",
    "# --- 1. Logistic Regression ---\n",
    "clf_lr = LogisticRegression(max_iter=1000)\n",
    "clf_lr.fit(X_train, y_train)\n",
    "y_pred_lr = clf_lr.predict(X_eval)\n",
    "accuracy_lr = accuracy_score(y_eval, y_pred_lr)\n",
    "print(f\"\\nLogistic Regression Accuracy: {accuracy_lr:.2f}\")\n",
    "\n",
    "# --- 2. Random Forest ---\n",
    "clf_rf = RandomForestClassifier(n_estimators=100)\n",
    "clf_rf.fit(X_train, y_train)\n",
    "y_pred_rf = clf_rf.predict(X_eval)\n",
    "accuracy_rf = accuracy_score(y_eval, y_pred_rf)\n",
    "print(f\"Random Forest Accuracy: {accuracy_rf:.2f}\")\n",
    "\n",
    "# --- 3. Support Vector Machine ---\n",
    "clf_svm = SVC(kernel='linear')\n",
    "clf_svm.fit(X_train, y_train)\n",
    "y_pred_svm = clf_svm.predict(X_eval)\n",
    "accuracy_svm = accuracy_score(y_eval, y_pred_svm)\n",
    "print(f\"SVM Accuracy: {accuracy_svm:.2f}\")"
   ]
  },
  {
   "cell_type": "code",
   "execution_count": null,
   "metadata": {},
   "outputs": [],
   "source": []
  }
 ],
 "metadata": {
  "kernelspec": {
   "display_name": "eeg",
   "language": "python",
   "name": "python3"
  },
  "language_info": {
   "codemirror_mode": {
    "name": "ipython",
    "version": 3
   },
   "file_extension": ".py",
   "mimetype": "text/x-python",
   "name": "python",
   "nbconvert_exporter": "python",
   "pygments_lexer": "ipython3",
   "version": "3.9.21"
  }
 },
 "nbformat": 4,
 "nbformat_minor": 2
}
